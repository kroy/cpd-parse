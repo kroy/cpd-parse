{
 "cells": [
  {
   "cell_type": "code",
   "execution_count": 76,
   "metadata": {},
   "outputs": [
    {
     "name": "stderr",
     "output_type": "stream",
     "text": [
      "/var/folders/9h/xh9hskwj4q9bvjqcy131pv9c0000gn/T/ipykernel_34065/630295531.py:5: DtypeWarning: Columns (1,4,15,16,26,27,28,29,30,31) have mixed types. Specify dtype option on import or set low_memory=False.\n",
      "  uof_df = pd.read_csv(base_file_path + \"/events/uof_full.csv\")\n"
     ]
    }
   ],
   "source": [
    "import pandas as pd\n",
    "base_file_path = \"../../files\"\n",
    "\n",
    "officer_prof_df = pd.read_csv(base_file_path + \"/profiles/officer_profile.csv\")\n",
    "uof_df = pd.read_csv(base_file_path + \"/events/uof_full.csv\")\n",
    "\n",
    "def normalize_sex(sex):\n",
    "  if (sex == \"M\" or sex == \"MALE\"):\n",
    "    return \"MALE\"\n",
    "  elif (sex == \"F\" or sex == \"FEMALE\"):\n",
    "    return \"FEMALE\"\n",
    "  else:\n",
    "    return \"NA\"\n",
    "\n",
    "def normalize_race(race):\n",
    "  if race in [\"WHITE\", \"BLACK\", \"HISPANIC\", \"ASIAN/PACIFIC ISLANDER\", \"NATIVE AMERICAN/ALASKAN NATIVE\"]:\n",
    "    return race\n",
    "  elif race == \"WHITE HISPANIC\":\n",
    "    return \"HISPANIC\"\n",
    "  elif race in [\"AMER IND/ALASKAN NATIVE\", \"NATIVE AMERICAN\"]:\n",
    "    return \"NATIVE AMERICAN/ALASKAN NATIVE\"\n",
    "  else:\n",
    "    return race\n",
    "\n",
    "uof_df[\"off_sex\"] = uof_df[\"off_sex\"].transform(normalize_sex)\n",
    "uof_df[\"off_race\"] = uof_df[\"off_race\"].transform(normalize_race)\n",
    "officer_prof_df[\"off_sex\"] = officer_prof_df[\"off_sex\"].transform(normalize_sex)\n",
    "officer_prof_df[\"off_race\"] = officer_prof_df[\"off_race\"].transform(normalize_race)\n",
    "\n",
    "join_left_cols = [\"off_first_name\", \"off_last_name\", \"off_birth_year\", \"off_sex\", \"off_race\"]\n",
    "join_right_cols = [\"off_first_name\", \"off_last_name\", \"off_year_of_birth\", \"off_sex\", \"off_race\"]\n",
    "\"\"\" write a file containing uof events missing pieces of our join key \"\"\"\n",
    "uof_df[uof_df[join_left_cols].isna().any(axis=1)].to_csv(base_file_path + \"/events/officer_id_merged/excluded/uof_keys_missing_filter_1.csv\", index=False)\n",
    "officer_prof_df[officer_prof_df[join_right_cols].isna().any(axis=1)].to_csv(base_file_path + \"/events/officer_id_merged/excluded/officer_profs_keys_missing_filter_1.csv\", index=False)\n",
    "\"\"\" drop rows in our data sets for which some piece of the join key is null/nonexistent \"\"\"\n",
    "uof_df.dropna(axis=\"index\", how=\"any\", subset=join_left_cols, inplace=True)\n",
    "officer_prof_df.dropna(axis=\"index\", how=\"any\", subset=join_right_cols, inplace=True)\n",
    "\n",
    "\"\"\" merge our data \"\"\"\n",
    "uof_merged_df = pd.merge(uof_df, officer_prof_df, how=\"left\", left_on=join_left_cols, right_on=join_right_cols, validate=\"m:m\")\n",
    "\n",
    "\"\"\" find uof incidents we've matched to more than one officer \"\"\"\n",
    "matches_by_uof_id = uof_merged_df.groupby(\"uof_id\").size().reset_index(name=\"count\")\n",
    "uof_ids_multiple_matches = matches_by_uof_id[matches_by_uof_id[\"count\"] > 1][\"uof_id\"].to_numpy()\n",
    "row_mask = uof_merged_df.isin({'uof_id': uof_ids_multiple_matches}).any(1)\n",
    "\"\"\" uof incidents matched to more than one officer \"\"\"\n",
    "uof_merged_df[row_mask].to_csv(base_file_path + \"/events/officer_id_merged/uof_merged_double_match_filter_1.csv\", index=False)\n",
    "\"\"\" write a file containing uof incidents we could not match to an officer \"\"\"\n",
    "uof_merged_df[uof_merged_df[\"off_id\"].isna()].to_csv(base_file_path + \"/events/officer_id_merged/uof_merged_no_match_filter_1.csv\", index=False)\n",
    "\"\"\" write a file containing uof incidents merged with officer info \"\"\"\n",
    "uof_merged_df.to_csv(base_file_path + \"/events/officer_id_merged/uof_merged_filter_1.csv\", index=False)\n"
   ]
  }
 ],
 "metadata": {
  "interpreter": {
   "hash": "aee8b7b246df8f9039afb4144a1f6fd8d2ca17a180786b69acc140d282b71a49"
  },
  "kernelspec": {
   "display_name": "Python 3.10.4 64-bit",
   "language": "python",
   "name": "python3"
  },
  "language_info": {
   "codemirror_mode": {
    "name": "ipython",
    "version": 3
   },
   "file_extension": ".py",
   "mimetype": "text/x-python",
   "name": "python",
   "nbconvert_exporter": "python",
   "pygments_lexer": "ipython3",
   "version": "3.10.4"
  },
  "orig_nbformat": 4
 },
 "nbformat": 4,
 "nbformat_minor": 2
}
