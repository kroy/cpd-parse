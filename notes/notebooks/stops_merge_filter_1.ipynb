{
 "cells": [
  {
   "cell_type": "code",
   "execution_count": 1,
   "metadata": {},
   "outputs": [
    {
     "name": "stderr",
     "output_type": "stream",
     "text": [
      "/tmp/ipykernel_12214/3820399968.py:5: DtypeWarning: Columns (3,5,6,7,8,10,11,12,13,20,23,24) have mixed types. Specify dtype option on import or set low_memory=False.\n",
      "  stops_df = pd.read_csv(base_file_path + \"/events/stops_full.csv\")\n"
     ]
    }
   ],
   "source": [
    "import pandas as pd\n",
    "base_file_path = \"../../files\"\n",
    "\n",
    "officer_prof_df = pd.read_csv(base_file_path + \"/profiles/officer_profile.csv\")\n",
    "stops_df = pd.read_csv(base_file_path + \"/events/stops_full.csv\")\n",
    "\n",
    "def normalize_sex(sex):\n",
    "  if (sex == \"M\" or sex == \"MALE\"):\n",
    "    return \"MALE\"\n",
    "  elif (sex == \"F\" or sex == \"FEMALE\"):\n",
    "    return \"FEMALE\"\n",
    "  else:\n",
    "    return \"NA\"\n",
    "\n",
    "def normalize_race(race):\n",
    "  if race in [\"WHITE\", \"BLACK\", \"HISPANIC\", \"ASIAN/PACIFIC ISLANDER\", \"NATIVE AMERICAN/ALASKAN NATIVE\"]:\n",
    "    return race\n",
    "  elif race == \"WHITE HISPANIC\":\n",
    "    return \"HISPANIC\"\n",
    "  elif race in [\"AMER IND/ALASKAN NATIVE\", \"NATIVE AMERICAN\"]:\n",
    "    return \"NATIVE AMERICAN/ALASKAN NATIVE\"\n",
    "  else:\n",
    "    return race\n",
    "\n",
    "join_left_cols = [\"first_off_first_name\", \"first_off_last_name\", \"first_off_sex\", \"first_off_race\"]\n",
    "join_right_cols = [\"off_first_name\", \"off_last_name\", \"off_sex\", \"off_race\"]\n",
    "\n",
    "stops_df.dropna(axis=\"index\", how=\"any\", subset=join_left_cols, inplace=True)\n",
    "officer_prof_df.dropna(axis=\"index\", how=\"any\", subset=join_right_cols, inplace=True)\n",
    "\n",
    "stops_df[\"first_off_sex\"] = stops_df[\"first_off_sex\"].transform(normalize_sex)\n",
    "stops_df[\"second_off_sex\"] = stops_df[\"second_off_sex\"].transform(normalize_sex)\n",
    "stops_df[\"first_off_race\"] = stops_df[\"first_off_race\"].transform(normalize_race)\n",
    "stops_df[\"second_off_race\"] = stops_df[\"second_off_race\"].transform(normalize_race)\n",
    "officer_prof_df[\"off_sex\"] = officer_prof_df[\"off_sex\"].transform(normalize_sex)\n",
    "officer_prof_df[\"off_race\"] = officer_prof_df[\"off_race\"].transform(normalize_race)\n",
    "\n",
    "stops_merged_df = pd.merge(stops_df, officer_prof_df, how=\"left\", left_on=join_left_cols, right_on=join_right_cols, suffixes=(\"_stop\", \"_first_off\"), validate=\"m:m\")\n",
    "join_left_cols = [\"second_off_first_name\", \"second_off_last_name\", \"second_off_sex\", \"second_off_race\"]\n",
    "second_off_stops = stops_merged_df.dropna(axis=\"index\", how=\"any\", subset=join_left_cols)\n",
    "second_off_stops_merged_df = pd.merge(second_off_stops, officer_prof_df, how=\"left\", left_on=join_left_cols, right_on=join_right_cols, suffixes=(\"_stop\", \"_second_off\"), validate=\"m:m\")\n",
    "pd.merge(stops_merged_df, second_off_stops_merged_df, how=\"left\").to_csv(base_file_path + \"/events/officer_id_merged/stops_merged_filter_1.csv\")\n"
   ]
  }
 ],
 "metadata": {
  "interpreter": {
   "hash": "aee8b7b246df8f9039afb4144a1f6fd8d2ca17a180786b69acc140d282b71a49"
  },
  "kernelspec": {
   "display_name": "Python 3.10.4 64-bit",
   "language": "python",
   "name": "python3"
  },
  "language_info": {
   "codemirror_mode": {
    "name": "ipython",
    "version": 3
   },
   "file_extension": ".py",
   "mimetype": "text/x-python",
   "name": "python",
   "nbconvert_exporter": "python",
   "pygments_lexer": "ipython3",
   "version": "3.10.4"
  },
  "orig_nbformat": 4
 },
 "nbformat": 4,
 "nbformat_minor": 2
}
