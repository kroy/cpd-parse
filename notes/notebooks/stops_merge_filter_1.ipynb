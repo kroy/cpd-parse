{
 "cells": [
  {
   "cell_type": "code",
   "execution_count": 18,
   "metadata": {},
   "outputs": [
    {
     "name": "stderr",
     "output_type": "stream",
     "text": [
      "/var/folders/9h/xh9hskwj4q9bvjqcy131pv9c0000gn/T/ipykernel_64988/1356821817.py:5: DtypeWarning: Columns (3,5,6,7,8,10,11,12,13,20,23,24) have mixed types. Specify dtype option on import or set low_memory=False.\n",
      "  stops_df = pd.read_csv(base_file_path + \"/events/stops_full.csv\")\n"
     ]
    }
   ],
   "source": [
    "import pandas as pd\n",
    "base_file_path = \"../../files\"\n",
    "\n",
    "officer_prof_df = pd.read_csv(base_file_path + \"/profiles/officer_profile.csv\")\n",
    "stops_df = pd.read_csv(base_file_path + \"/events/stops_full.csv\")\n",
    "\n",
    "def normalize_sex(sex):\n",
    "  if (sex == \"M\" or sex == \"MALE\"):\n",
    "    return \"MALE\"\n",
    "  elif (sex == \"F\" or sex == \"FEMALE\"):\n",
    "    return \"FEMALE\"\n",
    "  else:\n",
    "    return \"NA\"\n",
    "\n",
    "def normalize_race(race):\n",
    "  if race in [\"WHITE\", \"BLACK\", \"HISPANIC\", \"ASIAN/PACIFIC ISLANDER\", \"NATIVE AMERICAN/ALASKAN NATIVE\"]:\n",
    "    return race\n",
    "  elif race == \"WHITE HISPANIC\":\n",
    "    return \"HISPANIC\"\n",
    "  elif race in [\"AMER IND/ALASKAN NATIVE\", \"NATIVE AMERICAN\"]:\n",
    "    return \"NATIVE AMERICAN/ALASKAN NATIVE\"\n",
    "  else:\n",
    "    return race\n",
    "\n",
    "stops_df[\"first_off_sex\"] = stops_df[\"first_off_sex\"].transform(normalize_sex)\n",
    "stops_df[\"second_off_sex\"] = stops_df[\"second_off_sex\"].transform(normalize_sex)\n",
    "stops_df[\"first_off_race\"] = stops_df[\"first_off_race\"].transform(normalize_race)\n",
    "stops_df[\"second_off_race\"] = stops_df[\"second_off_race\"].transform(normalize_race)\n",
    "officer_prof_df[\"off_sex\"] = officer_prof_df[\"off_sex\"].transform(normalize_sex)\n",
    "officer_prof_df[\"off_race\"] = officer_prof_df[\"off_race\"].transform(normalize_race)\n",
    "\n",
    "join_left_cols = [\"first_off_first_name\", \"first_off_last_name\", \"first_off_sex\", \"first_off_race\"]\n",
    "join_right_cols = [\"off_first_name\", \"off_last_name\", \"off_sex\", \"off_race\"]\n",
    "stops_merged_df = pd.merge(stops_df, officer_prof_df, how=\"left\", left_on=join_left_cols, right_on=join_right_cols, suffixes=(\"_stop\", \"_first_off\"), validate=\"m:m\")\n",
    "join_left_cols = [\"second_off_first_name\", \"second_off_last_name\", \"second_off_sex\", \"second_off_race\"]\n",
    "second_off_stops = stops_merged_df.dropna(axis=\"index\", how=\"any\", subset=join_left_cols)\n",
    "second_off_stops_merged_df = pd.merge(second_off_stops, officer_prof_df, how=\"left\", left_on=join_left_cols, right_on=join_right_cols, suffixes=(\"_stop\", \"_second_off\"), validate=\"m:m\")\n",
    "pd.merge(stops_merged_df, second_off_stops_merged_df, how=\"left\").to_csv(base_file_path + \"/events/officer_id_merged/stops_merged_filter_1.csv\")\n"
   ]
  },
  {
   "cell_type": "code",
   "execution_count": 19,
   "metadata": {},
   "outputs": [
    {
     "ename": "NameError",
     "evalue": "name 's' is not defined",
     "output_type": "error",
     "traceback": [
      "\u001b[0;31m---------------------------------------------------------------------------\u001b[0m",
      "\u001b[0;31mNameError\u001b[0m                                 Traceback (most recent call last)",
      "\u001b[1;32m/Users/kroy/proj/cpd-parse/notes/notebooks/stops_merge_filter_1.ipynb Cell 2'\u001b[0m in \u001b[0;36m<cell line: 25>\u001b[0;34m()\u001b[0m\n\u001b[1;32m     <a href='vscode-notebook-cell:/Users/kroy/proj/cpd-parse/notes/notebooks/stops_merge_filter_1.ipynb#ch0000005?line=11'>12</a>\u001b[0m df2 \u001b[39m=\u001b[39m pd\u001b[39m.\u001b[39mDataFrame(\n\u001b[1;32m     <a href='vscode-notebook-cell:/Users/kroy/proj/cpd-parse/notes/notebooks/stops_merge_filter_1.ipynb#ch0000005?line=12'>13</a>\u001b[0m     {\n\u001b[1;32m     <a href='vscode-notebook-cell:/Users/kroy/proj/cpd-parse/notes/notebooks/stops_merge_filter_1.ipynb#ch0000005?line=13'>14</a>\u001b[0m         \u001b[39m\"\u001b[39m\u001b[39mA\u001b[39m\u001b[39m\"\u001b[39m: [\u001b[39m\"\u001b[39m\u001b[39mA0\u001b[39m\u001b[39m\"\u001b[39m, \u001b[39m\"\u001b[39m\u001b[39mA3\u001b[39m\u001b[39m\"\u001b[39m],\n\u001b[0;32m   (...)\u001b[0m\n\u001b[1;32m     <a href='vscode-notebook-cell:/Users/kroy/proj/cpd-parse/notes/notebooks/stops_merge_filter_1.ipynb#ch0000005?line=19'>20</a>\u001b[0m     index\u001b[39m=\u001b[39m[\u001b[39m0\u001b[39m, \u001b[39m3\u001b[39m],\n\u001b[1;32m     <a href='vscode-notebook-cell:/Users/kroy/proj/cpd-parse/notes/notebooks/stops_merge_filter_1.ipynb#ch0000005?line=20'>21</a>\u001b[0m )\n\u001b[1;32m     <a href='vscode-notebook-cell:/Users/kroy/proj/cpd-parse/notes/notebooks/stops_merge_filter_1.ipynb#ch0000005?line=22'>23</a>\u001b[0m pd\u001b[39m.\u001b[39mmerge(df1, df2, how\u001b[39m=\u001b[39m\u001b[39m\"\u001b[39m\u001b[39mleft\u001b[39m\u001b[39m\"\u001b[39m)\n\u001b[0;32m---> <a href='vscode-notebook-cell:/Users/kroy/proj/cpd-parse/notes/notebooks/stops_merge_filter_1.ipynb#ch0000005?line=24'>25</a>\u001b[0m s\n",
      "\u001b[0;31mNameError\u001b[0m: name 's' is not defined"
     ]
    }
   ],
   "source": [
    "import math\n",
    "df1 = pd.DataFrame(\n",
    "    {\n",
    "        \"A\": [\"A0\", \"A1\", \"A2\", \"A3\"],\n",
    "        \"B\": [\"B0\", \"B1\", \"B2\", \"B3\"],\n",
    "        \"C\": [\"C0\", \"C1\", \"C2\", \"C3\"],\n",
    "        \"D\": [\"D0\", \"D1\", \"D2\", math.nan],\n",
    "    },\n",
    "    index=[0, 1, 2, 3],\n",
    ")\n",
    "\n",
    "df2 = pd.DataFrame(\n",
    "    {\n",
    "        \"A\": [\"A0\", \"A3\"],\n",
    "        \"B\": [\"B0\", \"B3\"],\n",
    "        \"C\": [\"C0\", \"C3\"],\n",
    "        \"D\": [\"D0\", math.nan],\n",
    "        \"E\": [\"E0\", \"E3\"],\n",
    "    },\n",
    "    index=[0, 3],\n",
    ")\n",
    "\n",
    "pd.merge(df1, df2, how=\"left\")"
   ]
  }
 ],
 "metadata": {
  "interpreter": {
   "hash": "aee8b7b246df8f9039afb4144a1f6fd8d2ca17a180786b69acc140d282b71a49"
  },
  "kernelspec": {
   "display_name": "Python 3.10.4 64-bit",
   "language": "python",
   "name": "python3"
  },
  "language_info": {
   "codemirror_mode": {
    "name": "ipython",
    "version": 3
   },
   "file_extension": ".py",
   "mimetype": "text/x-python",
   "name": "python",
   "nbconvert_exporter": "python",
   "pygments_lexer": "ipython3",
   "version": "3.10.4"
  },
  "orig_nbformat": 4
 },
 "nbformat": 4,
 "nbformat_minor": 2
}
