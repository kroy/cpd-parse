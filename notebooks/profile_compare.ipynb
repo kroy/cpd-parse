{
 "cells": [
  {
   "cell_type": "code",
   "execution_count": 14,
   "metadata": {},
   "outputs": [
    {
     "data": {
      "text/plain": [
       "Index(['off_id', 'off_first_name', 'off_last_name', 'off_middle_initial',\n",
       "       'off_middle_initial_2', 'off_suffix', 'off_year_of_birth', 'off_race',\n",
       "       'off_sex', 'off_appointed', 'off_resignation'],\n",
       "      dtype='object')"
      ]
     },
     "execution_count": 14,
     "metadata": {},
     "output_type": "execute_result"
    }
   ],
   "source": [
    "import pandas as pd\n",
    "from data_tweak.normalizers import normalize_race, normalize_sex\n",
    "\n",
    "ii_prof_df = pd.read_csv(\"../files/profiles/roster_1936-2017_2017-04_profiles.csv\")\n",
    "prof_df = pd.read_csv(\"../files/profiles/officer_profile.csv\")\n",
    "\n",
    "prof_df[\"off_sex\"] = prof_df[\"off_sex\"].transform(normalize_sex)\n",
    "prof_df[\"off_race\"] = prof_df[\"off_race\"].transform(normalize_race)\n",
    "\n",
    "right_on = [\"first_name\", \"last_name\", \"birth_year\", \"gender\", \"race\"]\n",
    "left_on = [\"off_first_name\", \"off_last_name\", \"off_year_of_birth\", \"off_sex\", \"off_race\"]\n",
    "\n",
    "merged = pd.merge(prof_df, ii_prof_df, how=\"outer\", left_on=left_on, right_on=right_on)\n",
    "# merged = pd.merge(ii_prof_df, prof_df, how=\"inner\", left_on=left_on, right_on=right_on)\n",
    "\n",
    "# ii_prof_df.shape\n",
    "\n",
    "# merged[merged[left_on].isna().all(axis=1)]\n",
    "prof_df.columns"
   ]
  },
  {
   "cell_type": "code",
   "execution_count": null,
   "metadata": {},
   "outputs": [],
   "source": []
  }
 ],
 "metadata": {
  "interpreter": {
   "hash": "e7370f93d1d0cde622a1f8e1c04877d8463912d04d973331ad4851f04de6915a"
  },
  "kernelspec": {
   "display_name": "Python 3.10.4 64-bit",
   "language": "python",
   "name": "python3"
  },
  "language_info": {
   "codemirror_mode": {
    "name": "ipython",
    "version": 3
   },
   "file_extension": ".py",
   "mimetype": "text/x-python",
   "name": "python",
   "nbconvert_exporter": "python",
   "pygments_lexer": "ipython3",
   "version": "3.10.4"
  },
  "orig_nbformat": 4
 },
 "nbformat": 4,
 "nbformat_minor": 2
}
