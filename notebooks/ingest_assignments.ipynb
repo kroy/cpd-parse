{
 "cells": [
  {
   "cell_type": "code",
   "execution_count": 15,
   "metadata": {},
   "outputs": [
    {
     "name": "stderr",
     "output_type": "stream",
     "text": [
      "/var/folders/9h/xh9hskwj4q9bvjqcy131pv9c0000gn/T/ipykernel_58378/4243400398.py:4: DtypeWarning: Columns (3,5,6,7,8,10,11,12,13,20,23,24) have mixed types. Specify dtype option on import or set low_memory=False.\n",
      "  stops_df = pd.read_csv(\"../files/events/stops_full.csv\")\n"
     ]
    }
   ],
   "source": [
    "import pandas as pd\n",
    "from data_tweak.converters import convert_datetime, convert_race, convert_sex\n",
    "\n",
    "stops_df = pd.read_csv(\"../files/events/stops_full.csv\")\n",
    "stops_df.dropna(subset=[\"date_time\"], how=\"any\", inplace=True)\n",
    "convert_datetime(stops_df)\n",
    "# this needs to be sorted so we can slice properly\n",
    "stops_df.set_index(\"date_time\", inplace=True)\n",
    "stops_df.sort_index(inplace=True)\n",
    "convert_race(stops_df, [\"first_off_race\", \"second_off_race\", \"civ_race\"])\n",
    "convert_sex(stops_df, [\"first_off_sex\", \"second_off_sex\", \"civ_sex\"])\n"
   ]
  },
  {
   "cell_type": "code",
   "execution_count": 56,
   "metadata": {},
   "outputs": [
    {
     "name": "stderr",
     "output_type": "stream",
     "text": [
      "/var/folders/9h/xh9hskwj4q9bvjqcy131pv9c0000gn/T/ipykernel_58378/3985243628.py:28: FutureWarning: Indexing a timezone-aware DatetimeIndex with a timezone-naive datetime is deprecated and will raise KeyError in a future version. Use a timezone-aware object instead.\n",
      "  stops_df_window = stops_df[window_start:window_end]\n"
     ]
    },
    {
     "name": "stdout",
     "output_type": "stream",
     "text": [
      "  is_working  stops_total\n",
      "0          N          237\n",
      "1          Y         2077\n"
     ]
    },
    {
     "name": "stderr",
     "output_type": "stream",
     "text": [
      "/var/folders/9h/xh9hskwj4q9bvjqcy131pv9c0000gn/T/ipykernel_58378/3985243628.py:28: FutureWarning: Indexing a timezone-aware DatetimeIndex with a timezone-naive datetime is deprecated and will raise KeyError in a future version. Use a timezone-aware object instead.\n",
      "  stops_df_window = stops_df[window_start:window_end]\n"
     ]
    },
    {
     "name": "stdout",
     "output_type": "stream",
     "text": [
      "  is_working  stops_total\n",
      "0          N         1131\n",
      "1          Y         3992\n"
     ]
    },
    {
     "name": "stderr",
     "output_type": "stream",
     "text": [
      "/var/folders/9h/xh9hskwj4q9bvjqcy131pv9c0000gn/T/ipykernel_58378/3985243628.py:28: FutureWarning: Indexing a timezone-aware DatetimeIndex with a timezone-naive datetime is deprecated and will raise KeyError in a future version. Use a timezone-aware object instead.\n",
      "  stops_df_window = stops_df[window_start:window_end]\n"
     ]
    },
    {
     "name": "stdout",
     "output_type": "stream",
     "text": [
      "  is_working  stops_total\n",
      "0          N         1503\n",
      "1          Y         4488\n"
     ]
    },
    {
     "name": "stderr",
     "output_type": "stream",
     "text": [
      "/var/folders/9h/xh9hskwj4q9bvjqcy131pv9c0000gn/T/ipykernel_58378/3985243628.py:28: FutureWarning: Indexing a timezone-aware DatetimeIndex with a timezone-naive datetime is deprecated and will raise KeyError in a future version. Use a timezone-aware object instead.\n",
      "  stops_df_window = stops_df[window_start:window_end]\n"
     ]
    },
    {
     "name": "stdout",
     "output_type": "stream",
     "text": [
      "  is_working  stops_total\n",
      "0          N         1099\n",
      "1          Y         3600\n"
     ]
    },
    {
     "name": "stderr",
     "output_type": "stream",
     "text": [
      "/var/folders/9h/xh9hskwj4q9bvjqcy131pv9c0000gn/T/ipykernel_58378/3985243628.py:28: FutureWarning: Indexing a timezone-aware DatetimeIndex with a timezone-naive datetime is deprecated and will raise KeyError in a future version. Use a timezone-aware object instead.\n",
      "  stops_df_window = stops_df[window_start:window_end]\n"
     ]
    },
    {
     "name": "stdout",
     "output_type": "stream",
     "text": [
      "  is_working  stops_total\n",
      "0          N         1370\n",
      "1          Y         4073\n"
     ]
    },
    {
     "name": "stderr",
     "output_type": "stream",
     "text": [
      "/var/folders/9h/xh9hskwj4q9bvjqcy131pv9c0000gn/T/ipykernel_58378/3985243628.py:28: FutureWarning: Indexing a timezone-aware DatetimeIndex with a timezone-naive datetime is deprecated and will raise KeyError in a future version. Use a timezone-aware object instead.\n",
      "  stops_df_window = stops_df[window_start:window_end]\n"
     ]
    },
    {
     "name": "stdout",
     "output_type": "stream",
     "text": [
      "  is_working  stops_total\n",
      "0          N          940\n",
      "1          Y         3299\n"
     ]
    },
    {
     "name": "stderr",
     "output_type": "stream",
     "text": [
      "/var/folders/9h/xh9hskwj4q9bvjqcy131pv9c0000gn/T/ipykernel_58378/3985243628.py:28: FutureWarning: Indexing a timezone-aware DatetimeIndex with a timezone-naive datetime is deprecated and will raise KeyError in a future version. Use a timezone-aware object instead.\n",
      "  stops_df_window = stops_df[window_start:window_end]\n"
     ]
    },
    {
     "name": "stdout",
     "output_type": "stream",
     "text": [
      "  is_working  stops_total\n",
      "0          N          822\n",
      "1          Y         4461\n"
     ]
    },
    {
     "name": "stderr",
     "output_type": "stream",
     "text": [
      "/var/folders/9h/xh9hskwj4q9bvjqcy131pv9c0000gn/T/ipykernel_58378/3985243628.py:28: FutureWarning: Indexing a timezone-aware DatetimeIndex with a timezone-naive datetime is deprecated and will raise KeyError in a future version. Use a timezone-aware object instead.\n",
      "  stops_df_window = stops_df[window_start:window_end]\n"
     ]
    },
    {
     "name": "stdout",
     "output_type": "stream",
     "text": [
      "  is_working  stops_total\n",
      "0          N          187\n",
      "1          Y         2219\n"
     ]
    },
    {
     "name": "stderr",
     "output_type": "stream",
     "text": [
      "/var/folders/9h/xh9hskwj4q9bvjqcy131pv9c0000gn/T/ipykernel_58378/3985243628.py:28: FutureWarning: Indexing a timezone-aware DatetimeIndex with a timezone-naive datetime is deprecated and will raise KeyError in a future version. Use a timezone-aware object instead.\n",
      "  stops_df_window = stops_df[window_start:window_end]\n"
     ]
    },
    {
     "name": "stdout",
     "output_type": "stream",
     "text": [
      "  is_working  stops_total\n",
      "0          N          880\n",
      "1          Y         3962\n"
     ]
    },
    {
     "name": "stderr",
     "output_type": "stream",
     "text": [
      "/var/folders/9h/xh9hskwj4q9bvjqcy131pv9c0000gn/T/ipykernel_58378/3985243628.py:28: FutureWarning: Indexing a timezone-aware DatetimeIndex with a timezone-naive datetime is deprecated and will raise KeyError in a future version. Use a timezone-aware object instead.\n",
      "  stops_df_window = stops_df[window_start:window_end]\n"
     ]
    },
    {
     "name": "stdout",
     "output_type": "stream",
     "text": [
      "  is_working  stops_total\n",
      "0          N         1157\n",
      "1          Y         4227\n"
     ]
    },
    {
     "name": "stderr",
     "output_type": "stream",
     "text": [
      "/var/folders/9h/xh9hskwj4q9bvjqcy131pv9c0000gn/T/ipykernel_58378/3985243628.py:28: FutureWarning: Indexing a timezone-aware DatetimeIndex with a timezone-naive datetime is deprecated and will raise KeyError in a future version. Use a timezone-aware object instead.\n",
      "  stops_df_window = stops_df[window_start:window_end]\n"
     ]
    },
    {
     "name": "stdout",
     "output_type": "stream",
     "text": [
      "  is_working  stops_total\n",
      "0          N         1389\n",
      "1          Y         5100\n"
     ]
    },
    {
     "name": "stderr",
     "output_type": "stream",
     "text": [
      "/var/folders/9h/xh9hskwj4q9bvjqcy131pv9c0000gn/T/ipykernel_58378/3985243628.py:28: FutureWarning: Indexing a timezone-aware DatetimeIndex with a timezone-naive datetime is deprecated and will raise KeyError in a future version. Use a timezone-aware object instead.\n",
      "  stops_df_window = stops_df[window_start:window_end]\n"
     ]
    },
    {
     "name": "stdout",
     "output_type": "stream",
     "text": [
      "  is_working  stops_total\n",
      "0          N         1254\n",
      "1          Y         4334\n"
     ]
    },
    {
     "name": "stderr",
     "output_type": "stream",
     "text": [
      "/var/folders/9h/xh9hskwj4q9bvjqcy131pv9c0000gn/T/ipykernel_58378/3985243628.py:28: FutureWarning: Indexing a timezone-aware DatetimeIndex with a timezone-naive datetime is deprecated and will raise KeyError in a future version. Use a timezone-aware object instead.\n",
      "  stops_df_window = stops_df[window_start:window_end]\n"
     ]
    },
    {
     "name": "stdout",
     "output_type": "stream",
     "text": [
      "  is_working  stops_total\n",
      "0          N         1131\n",
      "1          Y         4254\n"
     ]
    },
    {
     "name": "stderr",
     "output_type": "stream",
     "text": [
      "/var/folders/9h/xh9hskwj4q9bvjqcy131pv9c0000gn/T/ipykernel_58378/3985243628.py:28: FutureWarning: Indexing a timezone-aware DatetimeIndex with a timezone-naive datetime is deprecated and will raise KeyError in a future version. Use a timezone-aware object instead.\n",
      "  stops_df_window = stops_df[window_start:window_end]\n"
     ]
    },
    {
     "name": "stdout",
     "output_type": "stream",
     "text": [
      "  is_working  stops_total\n",
      "0          N         1064\n",
      "1          Y         5043\n"
     ]
    },
    {
     "name": "stderr",
     "output_type": "stream",
     "text": [
      "/var/folders/9h/xh9hskwj4q9bvjqcy131pv9c0000gn/T/ipykernel_58378/3985243628.py:28: FutureWarning: Indexing a timezone-aware DatetimeIndex with a timezone-naive datetime is deprecated and will raise KeyError in a future version. Use a timezone-aware object instead.\n",
      "  stops_df_window = stops_df[window_start:window_end]\n"
     ]
    },
    {
     "name": "stdout",
     "output_type": "stream",
     "text": [
      "  is_working  stops_total\n",
      "0          N         1024\n",
      "1          Y         5233\n"
     ]
    },
    {
     "name": "stderr",
     "output_type": "stream",
     "text": [
      "/var/folders/9h/xh9hskwj4q9bvjqcy131pv9c0000gn/T/ipykernel_58378/3985243628.py:28: FutureWarning: Indexing a timezone-aware DatetimeIndex with a timezone-naive datetime is deprecated and will raise KeyError in a future version. Use a timezone-aware object instead.\n",
      "  stops_df_window = stops_df[window_start:window_end]\n"
     ]
    },
    {
     "name": "stdout",
     "output_type": "stream",
     "text": [
      "  is_working  stops_total\n",
      "0          N          378\n",
      "1          Y         3672\n"
     ]
    },
    {
     "name": "stderr",
     "output_type": "stream",
     "text": [
      "/var/folders/9h/xh9hskwj4q9bvjqcy131pv9c0000gn/T/ipykernel_58378/3985243628.py:28: FutureWarning: Indexing a timezone-aware DatetimeIndex with a timezone-naive datetime is deprecated and will raise KeyError in a future version. Use a timezone-aware object instead.\n",
      "  stops_df_window = stops_df[window_start:window_end]\n"
     ]
    },
    {
     "name": "stdout",
     "output_type": "stream",
     "text": [
      "  is_working  stops_total\n",
      "0          N         1279\n",
      "1          Y         5486\n"
     ]
    },
    {
     "name": "stderr",
     "output_type": "stream",
     "text": [
      "/var/folders/9h/xh9hskwj4q9bvjqcy131pv9c0000gn/T/ipykernel_58378/3985243628.py:28: FutureWarning: Indexing a timezone-aware DatetimeIndex with a timezone-naive datetime is deprecated and will raise KeyError in a future version. Use a timezone-aware object instead.\n",
      "  stops_df_window = stops_df[window_start:window_end]\n"
     ]
    },
    {
     "name": "stdout",
     "output_type": "stream",
     "text": [
      "  is_working  stops_total\n",
      "0          N         1416\n",
      "1          Y         5614\n"
     ]
    },
    {
     "name": "stderr",
     "output_type": "stream",
     "text": [
      "/var/folders/9h/xh9hskwj4q9bvjqcy131pv9c0000gn/T/ipykernel_58378/3985243628.py:28: FutureWarning: Indexing a timezone-aware DatetimeIndex with a timezone-naive datetime is deprecated and will raise KeyError in a future version. Use a timezone-aware object instead.\n",
      "  stops_df_window = stops_df[window_start:window_end]\n"
     ]
    },
    {
     "name": "stdout",
     "output_type": "stream",
     "text": [
      "  is_working  stops_total\n",
      "0          N         1249\n",
      "1          Y         4923\n"
     ]
    },
    {
     "name": "stderr",
     "output_type": "stream",
     "text": [
      "/var/folders/9h/xh9hskwj4q9bvjqcy131pv9c0000gn/T/ipykernel_58378/3985243628.py:28: FutureWarning: Indexing a timezone-aware DatetimeIndex with a timezone-naive datetime is deprecated and will raise KeyError in a future version. Use a timezone-aware object instead.\n",
      "  stops_df_window = stops_df[window_start:window_end]\n"
     ]
    },
    {
     "name": "stdout",
     "output_type": "stream",
     "text": [
      "  is_working  stops_total\n",
      "0          N         1225\n",
      "1          Y         4409\n"
     ]
    }
   ],
   "source": [
    "\n",
    "import numpy as np\n",
    "\n",
    "\"\"\"\n",
    "  @TODO bring in arrest/uof data\n",
    "  @TODO be more explicit about data we're excluding; record it\n",
    "  @TODO identify potential mis-merges\n",
    "  @TODO add total_stops field\n",
    "  @TODO output some metadata about the merge for QA\n",
    "  @TODO fix output file formatting (header row being appended to file for each chunk)\n",
    "  @TODO add correct timezones to data\n",
    "\"\"\"\n",
    "\n",
    "with pd.read_csv(\"../files/events/assignment_cleaned_first_200k.csv\", chunksize=10000) as reader:\n",
    "  left_on = [\"off_last_name\", \"off_first_name\", \"off_race\", \"off_sex\"]\n",
    "  right_on_first_off = [\"first_off_last_name\", \"first_off_first_name\", \"first_off_race\", \"first_off_sex\"]\n",
    "  right_on_second_off = [\"second_off_last_name\", \"second_off_first_name\", \"second_off_race\", \"second_off_sex\"]\n",
    "  group_by = [\"shift_start\", \"shift_end_corrected\", \"is_working\", \"off_first_name\", \"off_last_name\", \"off_sex\", \"off_race\", \"watch\", \"beat_x\"]\n",
    "  for chunk in reader:\n",
    "    chunk.dropna(subset=[\"shift_start\", \"shift_end_corrected\"], how=\"any\", inplace=True)\n",
    "    convert_datetime(chunk, datetime_col=\"shift_start\")\n",
    "    convert_datetime(chunk, datetime_col=\"shift_end_corrected\")\n",
    "    convert_race(chunk, [\"off_race\"])\n",
    "    convert_sex(chunk, [\"off_sex\"])\n",
    "    chunk.set_index(\"shift_start\", inplace=True, drop=False)\n",
    "    window_start = chunk[\"shift_start\"].min()\n",
    "    window_end = chunk[\"shift_end_corrected\"].max()\n",
    "    stops_df_window = stops_df[window_start:window_end]\n",
    "    stops_merged = pd.merge(chunk, stops_df_window, how=\"outer\", left_on=left_on, right_on=right_on_first_off)\n",
    "    stops_merged.assign(first_officer=True)\n",
    "    stops_df_window = stops_df_window.dropna(subset=right_on_second_off, how=\"any\")\n",
    "    second_off_merged = pd.merge(chunk, stops_df_window, how=\"outer\", left_on=left_on, right_on=right_on_second_off)\n",
    "    second_off_merged.assign(first_officer=False)\n",
    "    # second_off_merged.dropna(subset=right_on_second_off).to_csv(\"../files/events/assignment_merged/second_off_merge_test.csv\", mode=\"a\")\n",
    "    stops_merged = pd.concat([stops_merged, second_off_merged])\n",
    "    stops_merged = stops_merged.assign(\n",
    "      stops_white = np.where(stops_merged[\"civ_race\"] == \"WHITE\", 1, 0),\n",
    "      stops_black = np.where(stops_merged[\"civ_race\"] == \"BLACK\", 1, 0),\n",
    "      stops_hispanic = np.where(stops_merged[\"civ_race\"] == \"HISPANIC\", 1, 0),\n",
    "      stops_apa = np.where(stops_merged[\"civ_race\"] == \"ASIAN/PACIFIC ISLANDER\", 1, 0),\n",
    "      stops_native = np.where(stops_merged[\"civ_race\"] == \"NATIVE AMERICAN/ALASKAN NATIVE\", 1, 0),\n",
    "      stops_male = np.where(stops_merged[\"civ_sex\"] == \"MALE\", 1, 0),\n",
    "      stops_female = np.where(stops_merged[\"civ_sex\"] == \"FEMALE\", 1, 0)\n",
    "    )\n",
    "    stops_merged[stops_merged[left_on].isna().all(axis=1)].to_csv(\"../files/events/assignment_merged/merge_no_match_test.csv\", mode=\"a\")\n",
    "    stops_merged.dropna(subset=left_on, how=\"all\", inplace=True)\n",
    "    grped = stops_merged.groupby(group_by).agg({\"stops_white\":sum, \"stops_black\":sum, \"stops_hispanic\":sum, \"stops_apa\":sum, \"stops_native\":sum, \"stops_male\":sum, \"stops_female\":sum})\n",
    "    grped = grped.assign(\n",
    "      stops_total = grped[\"stops_white\"] + grped[\"stops_black\"] + grped[\"stops_hispanic\"] + grped[\"stops_apa\"] + grped[\"stops_native\"]\n",
    "    )\n",
    "    grped.to_csv(\"../files/events/assignment_merged/merge_grp_test.csv\", mode=\"a\")\n",
    "    is_working_stats = grped.reset_index().groupby(\"is_working\").agg({\"stops_total\": sum}).reset_index()\n",
    "    print(is_working_stats)\n"
   ]
  }
 ],
 "metadata": {
  "interpreter": {
   "hash": "e7370f93d1d0cde622a1f8e1c04877d8463912d04d973331ad4851f04de6915a"
  },
  "kernelspec": {
   "display_name": "Python 3.10.4 64-bit",
   "language": "python",
   "name": "python3"
  },
  "language_info": {
   "codemirror_mode": {
    "name": "ipython",
    "version": 3
   },
   "file_extension": ".py",
   "mimetype": "text/x-python",
   "name": "python",
   "nbconvert_exporter": "python",
   "pygments_lexer": "ipython3",
   "version": "3.10.4"
  },
  "orig_nbformat": 4
 },
 "nbformat": 4,
 "nbformat_minor": 2
}
