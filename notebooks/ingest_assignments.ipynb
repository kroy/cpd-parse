{
 "cells": [
  {
   "cell_type": "code",
   "execution_count": 15,
   "metadata": {},
   "outputs": [
    {
     "name": "stderr",
     "output_type": "stream",
     "text": [
      "/var/folders/9h/xh9hskwj4q9bvjqcy131pv9c0000gn/T/ipykernel_58378/4243400398.py:4: DtypeWarning: Columns (3,5,6,7,8,10,11,12,13,20,23,24) have mixed types. Specify dtype option on import or set low_memory=False.\n",
      "  stops_df = pd.read_csv(\"../files/events/stops_full.csv\")\n"
     ]
    }
   ],
   "source": [
    "import pandas as pd\n",
    "from data_tweak.converters import convert_datetime, convert_race, convert_sex\n",
    "\n",
    "stops_df = pd.read_csv(\"../files/events/stops_full.csv\")\n",
    "stops_df.dropna(subset=[\"date_time\"], how=\"any\", inplace=True)\n",
    "convert_datetime(stops_df)\n",
    "# this needs to be sorted so we can slice properly\n",
    "stops_df.set_index(\"date_time\", inplace=True)\n",
    "stops_df.sort_index(inplace=True)\n",
    "convert_race(stops_df, [\"first_off_race\", \"second_off_race\", \"civ_race\"])\n",
    "convert_sex(stops_df, [\"first_off_sex\", \"second_off_sex\", \"civ_sex\"])\n"
   ]
  },
  {
   "cell_type": "code",
   "execution_count": 29,
   "metadata": {},
   "outputs": [
    {
     "name": "stderr",
     "output_type": "stream",
     "text": [
      "/var/folders/9h/xh9hskwj4q9bvjqcy131pv9c0000gn/T/ipykernel_58378/3233935613.py:16: FutureWarning: Indexing a timezone-aware DatetimeIndex with a timezone-naive datetime is deprecated and will raise KeyError in a future version. Use a timezone-aware object instead.\n",
      "  stops_merged = pd.merge(chunk, stops_df[window_start:window_end], how=\"left\", left_on=left_on, right_on=right_on).dropna(subset=right_on)\n",
      "/var/folders/9h/xh9hskwj4q9bvjqcy131pv9c0000gn/T/ipykernel_58378/3233935613.py:16: FutureWarning: Indexing a timezone-aware DatetimeIndex with a timezone-naive datetime is deprecated and will raise KeyError in a future version. Use a timezone-aware object instead.\n",
      "  stops_merged = pd.merge(chunk, stops_df[window_start:window_end], how=\"left\", left_on=left_on, right_on=right_on).dropna(subset=right_on)\n",
      "/var/folders/9h/xh9hskwj4q9bvjqcy131pv9c0000gn/T/ipykernel_58378/3233935613.py:16: FutureWarning: Indexing a timezone-aware DatetimeIndex with a timezone-naive datetime is deprecated and will raise KeyError in a future version. Use a timezone-aware object instead.\n",
      "  stops_merged = pd.merge(chunk, stops_df[window_start:window_end], how=\"left\", left_on=left_on, right_on=right_on).dropna(subset=right_on)\n",
      "/var/folders/9h/xh9hskwj4q9bvjqcy131pv9c0000gn/T/ipykernel_58378/3233935613.py:16: FutureWarning: Indexing a timezone-aware DatetimeIndex with a timezone-naive datetime is deprecated and will raise KeyError in a future version. Use a timezone-aware object instead.\n",
      "  stops_merged = pd.merge(chunk, stops_df[window_start:window_end], how=\"left\", left_on=left_on, right_on=right_on).dropna(subset=right_on)\n",
      "/var/folders/9h/xh9hskwj4q9bvjqcy131pv9c0000gn/T/ipykernel_58378/3233935613.py:16: FutureWarning: Indexing a timezone-aware DatetimeIndex with a timezone-naive datetime is deprecated and will raise KeyError in a future version. Use a timezone-aware object instead.\n",
      "  stops_merged = pd.merge(chunk, stops_df[window_start:window_end], how=\"left\", left_on=left_on, right_on=right_on).dropna(subset=right_on)\n",
      "/var/folders/9h/xh9hskwj4q9bvjqcy131pv9c0000gn/T/ipykernel_58378/3233935613.py:16: FutureWarning: Indexing a timezone-aware DatetimeIndex with a timezone-naive datetime is deprecated and will raise KeyError in a future version. Use a timezone-aware object instead.\n",
      "  stops_merged = pd.merge(chunk, stops_df[window_start:window_end], how=\"left\", left_on=left_on, right_on=right_on).dropna(subset=right_on)\n",
      "/var/folders/9h/xh9hskwj4q9bvjqcy131pv9c0000gn/T/ipykernel_58378/3233935613.py:16: FutureWarning: Indexing a timezone-aware DatetimeIndex with a timezone-naive datetime is deprecated and will raise KeyError in a future version. Use a timezone-aware object instead.\n",
      "  stops_merged = pd.merge(chunk, stops_df[window_start:window_end], how=\"left\", left_on=left_on, right_on=right_on).dropna(subset=right_on)\n",
      "/var/folders/9h/xh9hskwj4q9bvjqcy131pv9c0000gn/T/ipykernel_58378/3233935613.py:16: FutureWarning: Indexing a timezone-aware DatetimeIndex with a timezone-naive datetime is deprecated and will raise KeyError in a future version. Use a timezone-aware object instead.\n",
      "  stops_merged = pd.merge(chunk, stops_df[window_start:window_end], how=\"left\", left_on=left_on, right_on=right_on).dropna(subset=right_on)\n",
      "/var/folders/9h/xh9hskwj4q9bvjqcy131pv9c0000gn/T/ipykernel_58378/3233935613.py:16: FutureWarning: Indexing a timezone-aware DatetimeIndex with a timezone-naive datetime is deprecated and will raise KeyError in a future version. Use a timezone-aware object instead.\n",
      "  stops_merged = pd.merge(chunk, stops_df[window_start:window_end], how=\"left\", left_on=left_on, right_on=right_on).dropna(subset=right_on)\n",
      "/var/folders/9h/xh9hskwj4q9bvjqcy131pv9c0000gn/T/ipykernel_58378/3233935613.py:16: FutureWarning: Indexing a timezone-aware DatetimeIndex with a timezone-naive datetime is deprecated and will raise KeyError in a future version. Use a timezone-aware object instead.\n",
      "  stops_merged = pd.merge(chunk, stops_df[window_start:window_end], how=\"left\", left_on=left_on, right_on=right_on).dropna(subset=right_on)\n",
      "/var/folders/9h/xh9hskwj4q9bvjqcy131pv9c0000gn/T/ipykernel_58378/3233935613.py:16: FutureWarning: Indexing a timezone-aware DatetimeIndex with a timezone-naive datetime is deprecated and will raise KeyError in a future version. Use a timezone-aware object instead.\n",
      "  stops_merged = pd.merge(chunk, stops_df[window_start:window_end], how=\"left\", left_on=left_on, right_on=right_on).dropna(subset=right_on)\n",
      "/var/folders/9h/xh9hskwj4q9bvjqcy131pv9c0000gn/T/ipykernel_58378/3233935613.py:16: FutureWarning: Indexing a timezone-aware DatetimeIndex with a timezone-naive datetime is deprecated and will raise KeyError in a future version. Use a timezone-aware object instead.\n",
      "  stops_merged = pd.merge(chunk, stops_df[window_start:window_end], how=\"left\", left_on=left_on, right_on=right_on).dropna(subset=right_on)\n",
      "/var/folders/9h/xh9hskwj4q9bvjqcy131pv9c0000gn/T/ipykernel_58378/3233935613.py:16: FutureWarning: Indexing a timezone-aware DatetimeIndex with a timezone-naive datetime is deprecated and will raise KeyError in a future version. Use a timezone-aware object instead.\n",
      "  stops_merged = pd.merge(chunk, stops_df[window_start:window_end], how=\"left\", left_on=left_on, right_on=right_on).dropna(subset=right_on)\n",
      "/var/folders/9h/xh9hskwj4q9bvjqcy131pv9c0000gn/T/ipykernel_58378/3233935613.py:16: FutureWarning: Indexing a timezone-aware DatetimeIndex with a timezone-naive datetime is deprecated and will raise KeyError in a future version. Use a timezone-aware object instead.\n",
      "  stops_merged = pd.merge(chunk, stops_df[window_start:window_end], how=\"left\", left_on=left_on, right_on=right_on).dropna(subset=right_on)\n",
      "/var/folders/9h/xh9hskwj4q9bvjqcy131pv9c0000gn/T/ipykernel_58378/3233935613.py:16: FutureWarning: Indexing a timezone-aware DatetimeIndex with a timezone-naive datetime is deprecated and will raise KeyError in a future version. Use a timezone-aware object instead.\n",
      "  stops_merged = pd.merge(chunk, stops_df[window_start:window_end], how=\"left\", left_on=left_on, right_on=right_on).dropna(subset=right_on)\n",
      "/var/folders/9h/xh9hskwj4q9bvjqcy131pv9c0000gn/T/ipykernel_58378/3233935613.py:16: FutureWarning: Indexing a timezone-aware DatetimeIndex with a timezone-naive datetime is deprecated and will raise KeyError in a future version. Use a timezone-aware object instead.\n",
      "  stops_merged = pd.merge(chunk, stops_df[window_start:window_end], how=\"left\", left_on=left_on, right_on=right_on).dropna(subset=right_on)\n",
      "/var/folders/9h/xh9hskwj4q9bvjqcy131pv9c0000gn/T/ipykernel_58378/3233935613.py:16: FutureWarning: Indexing a timezone-aware DatetimeIndex with a timezone-naive datetime is deprecated and will raise KeyError in a future version. Use a timezone-aware object instead.\n",
      "  stops_merged = pd.merge(chunk, stops_df[window_start:window_end], how=\"left\", left_on=left_on, right_on=right_on).dropna(subset=right_on)\n",
      "/var/folders/9h/xh9hskwj4q9bvjqcy131pv9c0000gn/T/ipykernel_58378/3233935613.py:16: FutureWarning: Indexing a timezone-aware DatetimeIndex with a timezone-naive datetime is deprecated and will raise KeyError in a future version. Use a timezone-aware object instead.\n",
      "  stops_merged = pd.merge(chunk, stops_df[window_start:window_end], how=\"left\", left_on=left_on, right_on=right_on).dropna(subset=right_on)\n",
      "/var/folders/9h/xh9hskwj4q9bvjqcy131pv9c0000gn/T/ipykernel_58378/3233935613.py:16: FutureWarning: Indexing a timezone-aware DatetimeIndex with a timezone-naive datetime is deprecated and will raise KeyError in a future version. Use a timezone-aware object instead.\n",
      "  stops_merged = pd.merge(chunk, stops_df[window_start:window_end], how=\"left\", left_on=left_on, right_on=right_on).dropna(subset=right_on)\n",
      "/var/folders/9h/xh9hskwj4q9bvjqcy131pv9c0000gn/T/ipykernel_58378/3233935613.py:16: FutureWarning: Indexing a timezone-aware DatetimeIndex with a timezone-naive datetime is deprecated and will raise KeyError in a future version. Use a timezone-aware object instead.\n",
      "  stops_merged = pd.merge(chunk, stops_df[window_start:window_end], how=\"left\", left_on=left_on, right_on=right_on).dropna(subset=right_on)\n"
     ]
    }
   ],
   "source": [
    "\n",
    "import numpy as np\n",
    "\n",
    "\n",
    "\"\"\"\n",
    "  @TODO bring in second officers on stops\n",
    "  @TODO bring in arrest/uof data\n",
    "  @TODO be more explicit about data we're excluding; record it\n",
    "  @TODO identify potential mis-merges\n",
    "\"\"\"\n",
    "\n",
    "with pd.read_csv(\"../files/events/assignment_cleaned_first_200k.csv\", chunksize=10000) as reader:\n",
    "  left_on = [\"off_last_name\", \"off_first_name\", \"off_race\", \"off_sex\"]\n",
    "  right_on = [\"first_off_last_name\", \"first_off_first_name\", \"first_off_race\", \"first_off_sex\"]\n",
    "  for chunk in reader:\n",
    "    chunk.dropna(subset=[\"shift_start\", \"shift_end_corrected\"], how=\"any\", inplace=True)\n",
    "    convert_datetime(chunk, datetime_col=\"shift_start\")\n",
    "    convert_datetime(chunk, datetime_col=\"shift_end_corrected\")\n",
    "    convert_race(chunk, [\"off_race\"])\n",
    "    convert_sex(chunk, [\"off_sex\"])\n",
    "    chunk.set_index(\"shift_start\", inplace=True, drop=False)\n",
    "    window_start = chunk[\"shift_start\"].min()\n",
    "    window_end = chunk[\"shift_end_corrected\"].max()\n",
    "    \"\"\" right now, this is only assignment records for which there is a stop \"\"\"\n",
    "    stops_merged = pd.merge(chunk, stops_df[window_start:window_end], how=\"left\", left_on=left_on, right_on=right_on).dropna(subset=right_on)\n",
    "    stops_merged = stops_merged.assign(\n",
    "      stops_white = np.where(stops_merged[\"civ_race\"] == \"WHITE\", 1, 0),\n",
    "      stops_black = np.where(stops_merged[\"civ_race\"] == \"BLACK\", 1, 0),\n",
    "      stops_hispanic = np.where(stops_merged[\"civ_race\"] == \"HISPANIC\", 1, 0),\n",
    "      stops_apa = np.where(stops_merged[\"civ_race\"] == \"ASIAN/PACIFIC ISLANDER\", 1, 0),\n",
    "      stops_native = np.where(stops_merged[\"civ_race\"] == \"NATIVE AMERICAN/ALASKAN NATIVE\", 1, 0),\n",
    "      stops_male = np.where(stops_merged[\"civ_sex\"] == \"MALE\", 1, 0),\n",
    "      stops_female = np.where(stops_merged[\"civ_sex\"] == \"FEMALE\", 1, 0)\n",
    "    )\n",
    "    grped = stops_merged.groupby([\"shift_start\", \"shift_end_corrected\", \"off_first_name\", \"off_last_name\", \"off_sex\", \"off_race\"]).agg({\"stops_white\":sum, \"stops_black\":sum, \"stops_hispanic\":sum, \"stops_apa\":sum, \"stops_native\":sum, \"stops_male\":sum, \"stops_female\":sum,})\n",
    "    grped.to_csv(\"../files/events/assignment_merged/merge_grp_test.csv\", mode=\"a\")\n",
    "    # stops_merged.to_csv(\"../files/events/assignment_merged/merge_test.csv\")\n",
    "    # pd.merge(chunk, stops_df[window_start:window_end], how=\"left\", left_on=left_on, right_on=right_on).dropna(subset=right_on).to_csv(\"../files/events/assignment_merged/merge_test.csv\", mode=\"a\")\n"
   ]
  }
 ],
 "metadata": {
  "interpreter": {
   "hash": "aee8b7b246df8f9039afb4144a1f6fd8d2ca17a180786b69acc140d282b71a49"
  },
  "kernelspec": {
   "display_name": "Python 3.10.4 64-bit",
   "language": "python",
   "name": "python3"
  },
  "language_info": {
   "codemirror_mode": {
    "name": "ipython",
    "version": 3
   },
   "file_extension": ".py",
   "mimetype": "text/x-python",
   "name": "python",
   "nbconvert_exporter": "python",
   "pygments_lexer": "ipython3",
   "version": "3.10.4"
  },
  "orig_nbformat": 4
 },
 "nbformat": 4,
 "nbformat_minor": 2
}
