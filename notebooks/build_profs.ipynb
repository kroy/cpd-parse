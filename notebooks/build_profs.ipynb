{
 "cells": [
  {
   "cell_type": "code",
   "execution_count": 24,
   "metadata": {},
   "outputs": [],
   "source": [
    "import pandas as pd\n",
    "\n",
    "unique_key = [\"off_last_name\",\"off_first_name\",\"off_middle_initial\",\"off_rank\",\"off_star\",\"off_race\",\"off_sex\",\"off_year_of_birth\",\"off_appointed\"]\n",
    "profs_df = pd.DataFrame(columns=unique_key)\n",
    "intermediary_dfs = []\n",
    "\n",
    "with pd.read_csv(\"../files/events/assignment_cleaned.csv\", chunksize=10000) as reader:\n",
    "  for chunk in reader:\n",
    "    profs_df = pd.concat([profs_df, chunk.loc[:,unique_key]]).drop_duplicates(subset=unique_key)\n",
    "\n",
    "profs_df.sort_values(by=[\"off_last_name\", \"off_first_name\", \"off_middle_initial\"], inplace=True, ignore_index=True)\n",
    "profs_df.to_csv(\"../files/profiles/officer_profs_test.csv\")"
   ]
  },
  {
   "cell_type": "code",
   "execution_count": 94,
   "metadata": {},
   "outputs": [],
   "source": [
    "import pandas as pd\n",
    "import numpy as np\n",
    "from functools import partial\n",
    "\n",
    "def star_at(index: int, stars: pd.Series) -> int:\n",
    "  try:\n",
    "    return int(stars.dropna().sort_values().reset_index(drop=True).iat[index])\n",
    "  except:\n",
    "    return np.nan\n",
    "\n",
    "profs = pd.read_csv(\"../files/profiles/officer_profs_test.csv\")\n",
    "cols = [\"off_last_name\",\"off_first_name\",\"off_middle_initial\",\"off_rank\",\"off_star\",\"off_race\",\"off_sex\",\"off_year_of_birth\",\"off_appointed\"]\n",
    "group_key = [\"off_last_name\",\"off_first_name\",\"off_middle_initial\",\"off_sex\",\"off_year_of_birth\",\"off_appointed\"]\n",
    "# for the off_star_x cols to be useful we probably want to order by date desc\n",
    "# otherwise this is just useful for disambiguation\n",
    "profs_df = profs.groupby(group_key).agg(\n",
    "  off_race=(\"off_race\", \"first\"),\n",
    "  ranks_held=(\"off_rank\", lambda ranks: ', '.join(ranks.dropna().unique())),\n",
    "  off_star_0=(\"off_star\", partial(star_at, 0)),\n",
    "  off_star_1=(\"off_star\", partial(star_at, 1)),\n",
    "  off_star_2=(\"off_star\", partial(star_at, 2)),\n",
    "  off_star_3=(\"off_star\", partial(star_at, 3)),\n",
    "  off_star_4=(\"off_star\", partial(star_at, 4)),\n",
    "  off_star_5=(\"off_star\", partial(star_at, 4)),\n",
    ").reset_index()\n",
    "\n",
    "profs_df.index.name = \"off_uniq_id\"\n",
    "\n",
    "profs_df.to_csv(\"../files/profiles/officers_index.csv\")"
   ]
  },
  {
   "cell_type": "code",
   "execution_count": 92,
   "metadata": {},
   "outputs": [
    {
     "name": "stdout",
     "output_type": "stream",
     "text": [
      "12482\n",
      "436\n"
     ]
    },
    {
     "data": {
      "text/html": [
       "<div>\n",
       "<style scoped>\n",
       "    .dataframe tbody tr th:only-of-type {\n",
       "        vertical-align: middle;\n",
       "    }\n",
       "\n",
       "    .dataframe tbody tr th {\n",
       "        vertical-align: top;\n",
       "    }\n",
       "\n",
       "    .dataframe thead th {\n",
       "        text-align: right;\n",
       "    }\n",
       "</style>\n",
       "<table border=\"1\" class=\"dataframe\">\n",
       "  <thead>\n",
       "    <tr style=\"text-align: right;\">\n",
       "      <th></th>\n",
       "      <th>off_last_name</th>\n",
       "      <th>off_first_name</th>\n",
       "      <th>off_middle_initial</th>\n",
       "      <th>off_sex</th>\n",
       "      <th>off_year_of_birth</th>\n",
       "      <th>off_appointed</th>\n",
       "      <th>off_race</th>\n",
       "      <th>ranks_held</th>\n",
       "      <th>off_star_0</th>\n",
       "      <th>off_star_1</th>\n",
       "      <th>off_star_2</th>\n",
       "      <th>off_star_3</th>\n",
       "      <th>off_star_4</th>\n",
       "      <th>off_star_5</th>\n",
       "    </tr>\n",
       "  </thead>\n",
       "  <tbody>\n",
       "    <tr>\n",
       "      <th>3936</th>\n",
       "      <td>GOLDEN</td>\n",
       "      <td>MICHAEL</td>\n",
       "      <td>A</td>\n",
       "      <td>M</td>\n",
       "      <td>1991</td>\n",
       "      <td>2015-12-14</td>\n",
       "      <td>WHITE</td>\n",
       "      <td>POLICE OFFICER</td>\n",
       "      <td>3156.0</td>\n",
       "      <td>16833.0</td>\n",
       "      <td>18771.0</td>\n",
       "      <td>19217.0</td>\n",
       "      <td>19686.0</td>\n",
       "      <td>19686.0</td>\n",
       "    </tr>\n",
       "    <tr>\n",
       "      <th>10767</th>\n",
       "      <td>STEVENS</td>\n",
       "      <td>JILL</td>\n",
       "      <td>M</td>\n",
       "      <td>F</td>\n",
       "      <td>1978</td>\n",
       "      <td>2002-03-25</td>\n",
       "      <td>WHITE</td>\n",
       "      <td>COMMANDER</td>\n",
       "      <td>24.0</td>\n",
       "      <td>178.0</td>\n",
       "      <td>626.0</td>\n",
       "      <td>627.0</td>\n",
       "      <td>1222.0</td>\n",
       "      <td>1222.0</td>\n",
       "    </tr>\n",
       "  </tbody>\n",
       "</table>\n",
       "</div>"
      ],
      "text/plain": [
       "      off_last_name off_first_name off_middle_initial off_sex  \\\n",
       "3936         GOLDEN        MICHAEL                  A       M   \n",
       "10767       STEVENS           JILL                  M       F   \n",
       "\n",
       "       off_year_of_birth off_appointed off_race      ranks_held  off_star_0  \\\n",
       "3936                1991    2015-12-14    WHITE  POLICE OFFICER      3156.0   \n",
       "10767               1978    2002-03-25    WHITE       COMMANDER        24.0   \n",
       "\n",
       "       off_star_1  off_star_2  off_star_3  off_star_4  off_star_5  \n",
       "3936      16833.0     18771.0     19217.0     19686.0     19686.0  \n",
       "10767       178.0       626.0       627.0      1222.0      1222.0  "
      ]
     },
     "execution_count": 92,
     "metadata": {},
     "output_type": "execute_result"
    }
   ],
   "source": [
    "print(profs_df.shape[0])\n",
    "print(profs_df[profs_df[\"off_race\"].isna()].shape[0])\n",
    "profs_df.dropna(subset=[\"off_star_5\"])\n",
    "# profs_df[profs_df[\"off_race\"].isna()].shape[0]\n",
    "# profs.drop_duplicates()\n",
    "# profs.pivot(index=[\"off_last_name\",\"off_first_name\",\"off_middle_initial\",\"off_year_of_birth\",\"off_appointed\"], columns=)\n",
    "# profs.groupby([\"off_last_name\",\"off_first_name\",\"off_middle_initial\",\"off_race\",\"off_year_of_birth\",\"off_appointed\"])\n",
    "# profs.groupby(\"off_star\", sort=False, dropna=False).first().to_csv(\"../files/events/off_prof_uniq_star.csv\")"
   ]
  }
 ],
 "metadata": {
  "interpreter": {
   "hash": "767d51c1340bd893661ea55ea3124f6de3c7a262a8b4abca0554b478b1e2ff90"
  },
  "kernelspec": {
   "display_name": "Python 3.10.4 64-bit",
   "language": "python",
   "name": "python3"
  },
  "language_info": {
   "codemirror_mode": {
    "name": "ipython",
    "version": 3
   },
   "file_extension": ".py",
   "mimetype": "text/x-python",
   "name": "python",
   "nbconvert_exporter": "python",
   "pygments_lexer": "ipython3",
   "version": "3.10.4"
  },
  "orig_nbformat": 4
 },
 "nbformat": 4,
 "nbformat_minor": 2
}
