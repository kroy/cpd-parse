{
 "cells": [
  {
   "cell_type": "code",
   "execution_count": 8,
   "metadata": {},
   "outputs": [],
   "source": [
    "import pandas as pd\n",
    "\n",
    "unique_key = [\"off_last_name\",\"off_first_name\",\"off_middle_initial\",\"off_rank\",\"off_star\",\"off_race\",\"off_sex\",\"off_year_of_birth\",\"off_appointed\"]\n",
    "profs_df = pd.DataFrame(columns=unique_key)\n",
    "intermediary_dfs = []\n",
    "\n",
    "with pd.read_csv(\"../files/events/assignment_cleaned.csv\", chunksize=10000) as reader:\n",
    "  for chunk in reader:\n",
    "    profs_df = pd.concat([profs_df, chunk.loc[:,unique_key]]).drop_duplicates(subset=unique_key)\n",
    "\n",
    "profs_df.sort_values(by=[\"off_last_name\", \"off_first_name\", \"off_middle_initial\"], inplace=True, ignore_index=True)\n",
    "profs_df.to_csv(\"../files/profiles/officer_profs_test.csv\")"
   ]
  },
  {
   "cell_type": "code",
   "execution_count": 9,
   "metadata": {},
   "outputs": [],
   "source": [
    "import pandas as pd\n",
    "import numpy as np\n",
    "from functools import partial\n",
    "\n",
    "def star_at(index: int, stars: pd.Series) -> int:\n",
    "  try:\n",
    "    return int(stars.dropna().sort_values().reset_index(drop=True).iat[index])\n",
    "  except:\n",
    "    return np.nan\n",
    "\n",
    "profs = pd.read_csv(\"../files/profiles/officer_profs_test.csv\")\n",
    "# profs[profs[\"off_race\"].isna()].to_csv(\"../files/profiles/missing_race.csv\")\n",
    "cols = [\"off_last_name\",\"off_first_name\",\"off_middle_initial\",\"off_rank\",\"off_star\",\"off_race\",\"off_sex\",\"off_year_of_birth\",\"off_appointed\"]\n",
    "group_key = [\"off_last_name\",\"off_first_name\",\"off_middle_initial\",\"off_sex\",\"off_year_of_birth\",\"off_appointed\"]\n",
    "# for the off_star_x cols to be useful we probably want to order by date desc\n",
    "# otherwise this is just useful for disambiguation\n",
    "profs_df = profs.groupby(group_key, dropna=False).agg(\n",
    "  off_race=(\"off_race\", \"first\"),\n",
    "  ranks_held=(\"off_rank\", lambda ranks: ', '.join(ranks.dropna().unique())),\n",
    "  off_star_0=(\"off_star\", partial(star_at, 0)),\n",
    "  off_star_1=(\"off_star\", partial(star_at, 1)),\n",
    "  off_star_2=(\"off_star\", partial(star_at, 2)),\n",
    "  off_star_3=(\"off_star\", partial(star_at, 3)),\n",
    "  off_star_4=(\"off_star\", partial(star_at, 4)),\n",
    "  off_star_5=(\"off_star\", partial(star_at, 5)),\n",
    ").reset_index()\n",
    "\n",
    "\"\"\" just for bookkeeping \"\"\"\n",
    "profs_df[\"off_source\"] = \"assignments_file\"\n",
    "\n",
    "profs_df.index.name = \"off_uniq_id\"\n",
    "\n",
    "profs_df.to_csv(\"../files/profiles/officers_index.csv\")"
   ]
  },
  {
   "cell_type": "code",
   "execution_count": 10,
   "metadata": {},
   "outputs": [
    {
     "name": "stdout",
     "output_type": "stream",
     "text": [
      "<class 'pandas._libs.tslibs.timestamps.Timestamp'>\n",
      "<class 'pandas._libs.tslibs.timestamps.Timestamp'>\n"
     ]
    }
   ],
   "source": [
    "import pandas as pd\n",
    "import datetime\n",
    "from data_tweak.converters import convert_race, convert_sex\n",
    "\n",
    "# fix a weird date conversion issue that happens w/ 2-digit dates\n",
    "def fix_future_dates(date: datetime) -> datetime:\n",
    "  if pd.isnull(date):\n",
    "    return pd.NaT\n",
    "  elif date.year > 2022:\n",
    "    return date - pd.DateOffset(years=100)\n",
    "  else:\n",
    "    return date\n",
    "\n",
    "officers_index_df = pd.read_csv(\"../files/profiles/officers_index.csv\", index_col=\"off_uniq_id\", parse_dates=[\"off_appointed\"], date_parser=lambda d: pd.to_datetime(d, format=\"%Y-%m-%d\"))\n",
    "kiefer_roster_df = pd.read_csv(\"../files/profiles/kiefer_roster.csv\", parse_dates=[\"Appointed Date\", \"Resignation Date\"], date_parser=lambda d: pd.to_datetime(d, format=\"%d-%b-%y\"))\n",
    "kiefer_roster_df[\"Appointed Date\"] = kiefer_roster_df[\"Appointed Date\"].apply(fix_future_dates)\n",
    "kiefer_roster_df[\"Resignation Date\"] = kiefer_roster_df[\"Resignation Date\"].apply(fix_future_dates)\n",
    "convert_race(officers_index_df, [\"off_race\"])\n",
    "convert_sex(officers_index_df, [\"off_sex\"])\n",
    "convert_race(kiefer_roster_df, [\"Race\"])\n",
    "convert_sex(kiefer_roster_df, [\"Gender\"])\n",
    "\n",
    "# first, assign birthdate ranges\n",
    "kiefer_roster_df = kiefer_roster_df.rename(columns={\n",
    "  \"Last Name\": \"off_last_name\",\n",
    "  \"First Name\": \"off_first_name\",\n",
    "  \"Middle Initital\": \"off_middle_initial\",\n",
    "  \"Gender\": \"off_sex\",\n",
    "  \"Race\": \"off_race\",\n",
    "  \"D.O.B.\": \"off_year_of_birth\",\n",
    "  \"Appointed Date\": \"off_appointed\",\n",
    "  \"Resignation Date\": \"off_resignation\",\n",
    "  \"Description\": \"ranks_held\",\n",
    "  \"Star 1\": \"off_star_0\",\n",
    "  \"Star 2\": \"off_star_1\",\n",
    "  \"Star 3\": \"off_star_2\",\n",
    "  \"Star 4\": \"off_star_3\",\n",
    "  \"Star 5\": \"off_star_4\",\n",
    "  \"Star 6\": \"off_star_5\"\n",
    "})\n",
    "\n",
    "kiefer_roster_df[\"off_source\"] = \"kiefer\"\n",
    "kiefer_roster_df.index.name = \"off_uniq_id\"\n",
    "kiefer_roster_df[\"off_year_of_birth\"] = kiefer_roster_df[\"off_year_of_birth\"].astype(int, errors=\"ignore\")\n",
    "\n",
    "# kiefer_roster_df\n",
    "kiefer_roster_df = kiefer_roster_df.loc[:, officers_index_df.columns]\n",
    "print(type(officers_index_df.off_appointed.iat[0]))\n",
    "print(type(kiefer_roster_df.off_appointed.iat[0]))\n",
    "\n",
    "output_df = pd.concat([officers_index_df, kiefer_roster_df], ignore_index=True).replace(r'^\\s+$', np.nan, regex=True).drop_duplicates(subset=[\"off_last_name\",\"off_first_name\",\"off_middle_initial\",\"off_sex\", \"off_year_of_birth\", \"off_appointed\", \"off_race\"]).sort_values(by=[\"off_last_name\", \"off_first_name\", \"off_middle_initial\"], ignore_index=True)\n",
    "output_df.index.name = \"off_uniq_id\"\n",
    "output_df.to_csv(\"../files/profiles/officers_index_plus_kiefer.csv\")"
   ]
  }
 ],
 "metadata": {
  "interpreter": {
   "hash": "aee8b7b246df8f9039afb4144a1f6fd8d2ca17a180786b69acc140d282b71a49"
  },
  "kernelspec": {
   "display_name": "Python 3.10.4 64-bit",
   "language": "python",
   "name": "python3"
  },
  "language_info": {
   "codemirror_mode": {
    "name": "ipython",
    "version": 3
   },
   "file_extension": ".py",
   "mimetype": "text/x-python",
   "name": "python",
   "nbconvert_exporter": "python",
   "pygments_lexer": "ipython3",
   "version": "3.10.4"
  },
  "orig_nbformat": 4
 },
 "nbformat": 4,
 "nbformat_minor": 2
}
