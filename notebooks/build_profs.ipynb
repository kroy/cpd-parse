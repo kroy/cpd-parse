{
 "cells": [
  {
   "cell_type": "code",
   "execution_count": 8,
   "metadata": {},
   "outputs": [],
   "source": [
    "import pandas as pd\n",
    "\n",
    "unique_key = [\"off_last_name\",\"off_first_name\",\"off_middle_initial\",\"off_rank\",\"off_star\",\"off_race\",\"off_year_of_birth\",\"off_appointed\"]\n",
    "profs_df = pd.DataFrame(columns=unique_key)\n",
    "intermediary_dfs = []\n",
    "\n",
    "with pd.read_csv(\"../files/events/assignment_cleaned.csv\", chunksize=10000) as reader:\n",
    "  for chunk in reader:\n",
    "    profs_df = pd.concat([profs_df, chunk.loc[:,unique_key]]).drop_duplicates(subset=unique_key)\n",
    "\n",
    "profs_df.sort_values(by=[\"off_last_name\", \"off_first_name\", \"off_middle_initial\"], inplace=True, ignore_index=True)\n",
    "profs_df.to_csv(\"../files/events/officer_profs_test.csv\")"
   ]
  }
 ],
 "metadata": {
  "interpreter": {
   "hash": "767d51c1340bd893661ea55ea3124f6de3c7a262a8b4abca0554b478b1e2ff90"
  },
  "kernelspec": {
   "display_name": "Python 3.10.4 64-bit",
   "language": "python",
   "name": "python3"
  },
  "language_info": {
   "codemirror_mode": {
    "name": "ipython",
    "version": 3
   },
   "file_extension": ".py",
   "mimetype": "text/x-python",
   "name": "python",
   "nbconvert_exporter": "python",
   "pygments_lexer": "ipython3",
   "version": "3.10.4"
  },
  "orig_nbformat": 4
 },
 "nbformat": 4,
 "nbformat_minor": 2
}
