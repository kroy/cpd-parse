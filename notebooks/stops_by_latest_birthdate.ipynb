{
 "cells": [
  {
   "cell_type": "code",
   "execution_count": 2,
   "metadata": {},
   "outputs": [
    {
     "name": "stderr",
     "output_type": "stream",
     "text": [
      "/tmp/ipykernel_19860/1810155183.py:9: DtypeWarning: Columns (3,5,6,7,8,10,11,12,13,20,23,24) have mixed types. Specify dtype option on import or set low_memory=False.\n",
      "  stops_df = pd.read_csv(\"../files/events/stops_full.csv\", parse_dates=[\"date_time\"], date_parser=pd.to_datetime)\n"
     ]
    }
   ],
   "source": [
    "import pandas as pd\n",
    "import numpy as np\n",
    "from functools import partial\n",
    "\n",
    "def latest_birth_year(column: str, stop: pd.Series) -> pd.Timestamp:\n",
    "  if pd.isnull(stop[column]): return np.nan\n",
    "  return (stop[\"date_time\"] - pd.DateOffset(years=stop[column], days=1)).year\n",
    "\n",
    "stops_df = pd.read_csv(\"../files/events/stops_full.csv\", parse_dates=[\"date_time\"], date_parser=pd.to_datetime)\n",
    "\n",
    "stops_df[\"first_off_latest_birth_year\"] = stops_df.apply(partial(latest_birth_year, \"first_off_age\"), axis=1)\n",
    "stops_df[\"second_off_latest_birth_year\"] = stops_df.apply(partial(latest_birth_year, \"second_off_age\"), axis=1)\n",
    "stops_df.sort_values(\"first_off_latest_birth_year\", inplace=True)\n"
   ]
  },
  {
   "cell_type": "code",
   "execution_count": 3,
   "metadata": {},
   "outputs": [],
   "source": [
    "from data_tweak.converters import convert_race, convert_sex\n",
    "convert_sex(stops_df, [\"first_off_sex\", \"second_off_sex\"])\n",
    "convert_race(stops_df, [\"first_off_race\", \"second_off_race\"])\n",
    "stops_df.index.name = \"stop_id\"\n",
    "stops_df.to_csv(\"../files/events/stops_by_fo_birth_year.csv\")"
   ]
  },
  {
   "cell_type": "code",
   "execution_count": 39,
   "metadata": {},
   "outputs": [
    {
     "name": "stdout",
     "output_type": "stream",
     "text": [
      "number of profiles: 36323\n",
      "number of profiles with a birth year: 36321\n",
      "number of stops: 2865566\n",
      "number of stops with a birth year: 2258099\n"
     ]
    }
   ],
   "source": [
    "prof_df = pd.read_csv(\"../files/profiles/officers_index_plus_kiefer.csv\")\n",
    "print(\"number of profiles:\", prof_df.shape[0])\n",
    "prof_df = prof_df.dropna(subset=[\"off_year_of_birth\"]).sort_values(\"off_year_of_birth\")\n",
    "print(\"number of profiles with a birth year:\", prof_df.shape[0])\n",
    "print(\"number of stops:\", stops_df.shape[0])\n",
    "stops_df_cleaned = stops_df.dropna(subset=[\"first_off_latest_birth_year\"])\n",
    "print(\"number of stops with a birth year:\", stops_df_cleaned.shape[0])\n",
    "cols = list(stops_df_cleaned.columns.tolist()) + [\"off_uniq_id\"]\n",
    "\n",
    "pd.merge_asof(stops_df_cleaned, prof_df, left_on=[\"first_off_latest_birth_year\"], right_on=[\"off_year_of_birth\"], left_by=[\"first_off_first_name\", \"first_off_last_name\", \"first_off_sex\", \"first_off_race\"], right_by=[\"off_first_name\", \"off_last_name\", \"off_sex\", \"off_race\"], tolerance=1, direction=\"nearest\").loc[:, cols].to_csv(\"../files/events/test/stops_age_merge_att.csv\")\n"
   ]
  },
  {
   "cell_type": "code",
   "execution_count": 40,
   "metadata": {},
   "outputs": [
    {
     "name": "stderr",
     "output_type": "stream",
     "text": [
      "/tmp/ipykernel_4287/2318788398.py:1: DtypeWarning: Columns (4) have mixed types. Specify dtype option on import or set low_memory=False.\n",
      "  merged_fo_df = pd.read_csv(\"../files/events/test/stops_age_merge_att.csv\")\n"
     ]
    },
    {
     "name": "stdout",
     "output_type": "stream",
     "text": [
      "number of matches 2173038\n"
     ]
    }
   ],
   "source": [
    "merged_fo_df = pd.read_csv(\"../files/events/test/stops_age_merge_att.csv\")\n",
    "print(\"number of matches\", merged_fo_df[merged_fo_df[\"off_uniq_id\"].notna()].shape[0])"
   ]
  }
 ],
 "metadata": {
  "interpreter": {
   "hash": "e7370f93d1d0cde622a1f8e1c04877d8463912d04d973331ad4851f04de6915a"
  },
  "kernelspec": {
   "display_name": "Python 3.10.4 64-bit",
   "language": "python",
   "name": "python3"
  },
  "language_info": {
   "codemirror_mode": {
    "name": "ipython",
    "version": 3
   },
   "file_extension": ".py",
   "mimetype": "text/x-python",
   "name": "python",
   "nbconvert_exporter": "python",
   "pygments_lexer": "ipython3",
   "version": "3.10.4"
  },
  "orig_nbformat": 4
 },
 "nbformat": 4,
 "nbformat_minor": 2
}
