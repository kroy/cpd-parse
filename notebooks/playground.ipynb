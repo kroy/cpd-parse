{
 "cells": [
  {
   "cell_type": "code",
   "execution_count": 8,
   "metadata": {},
   "outputs": [
    {
     "name": "stdout",
     "output_type": "stream",
     "text": [
      "assignments working: 14510439\n",
      "assignments not working: 14096323\n"
     ]
    }
   ],
   "source": [
    "import pandas as pd\n",
    "\n",
    "assignments_working = 0\n",
    "assignments_not_working = 0\n",
    "\n",
    "with pd.read_csv(\"../files/events/assignment_cleaned.csv\", chunksize=10000) as reader:\n",
    "  for chunk in reader:\n",
    "    grp = chunk.groupby(\"is_working\", dropna=False).size()\n",
    "    assignments_not_working += grp[\"N\"]\n",
    "    assignments_working += grp[\"Y\"]\n",
    "\n",
    "print(\"assignments working:\", assignments_working)\n",
    "print(\"assignments not working:\", assignments_not_working)\n"
   ]
  },
  {
   "cell_type": "code",
   "execution_count": 9,
   "metadata": {},
   "outputs": [
    {
     "name": "stdout",
     "output_type": "stream",
     "text": [
      "assignments working: 14510439\n",
      "assignments not working: 14096323\n"
     ]
    }
   ],
   "source": [
    "assignments_working = 0\n",
    "assignments_not_working = 0\n",
    "\n",
    "with pd.read_csv(\"../files/events/officer_id_merged/assignments/assignments_full_merge.csv\", chunksize=10000) as reader:\n",
    "  for chunk in reader:\n",
    "    grp = chunk.groupby(\"is_working\", dropna=False).size()\n",
    "    assignments_not_working += grp[\"N\"]\n",
    "    assignments_working += grp[\"Y\"]\n",
    "\n",
    "print(\"assignments working:\", assignments_working)\n",
    "print(\"assignments not working:\", assignments_not_working)\n"
   ]
  },
  {
   "cell_type": "code",
   "execution_count": 11,
   "metadata": {},
   "outputs": [
    {
     "name": "stderr",
     "output_type": "stream",
     "text": [
      "/tmp/ipykernel_6289/4274467249.py:1: DtypeWarning: Columns (18) have mixed types. Specify dtype option on import or set low_memory=False.\n",
      "  assignments_df = pd.read_csv(\"../files/events/assignment_cleaned_part_2.csv\")\n"
     ]
    },
    {
     "data": {
      "text/html": [
       "<div>\n",
       "<style scoped>\n",
       "    .dataframe tbody tr th:only-of-type {\n",
       "        vertical-align: middle;\n",
       "    }\n",
       "\n",
       "    .dataframe tbody tr th {\n",
       "        vertical-align: top;\n",
       "    }\n",
       "\n",
       "    .dataframe thead th {\n",
       "        text-align: right;\n",
       "    }\n",
       "</style>\n",
       "<table border=\"1\" class=\"dataframe\">\n",
       "  <thead>\n",
       "    <tr style=\"text-align: right;\">\n",
       "      <th></th>\n",
       "      <th>Unnamed: 0</th>\n",
       "      <th>unit</th>\n",
       "      <th>watch</th>\n",
       "      <th>beat</th>\n",
       "      <th>car_number</th>\n",
       "      <th>shift_start</th>\n",
       "      <th>start_time</th>\n",
       "      <th>shift_end</th>\n",
       "      <th>end_time</th>\n",
       "      <th>off_last_name</th>\n",
       "      <th>...</th>\n",
       "      <th>off_appointed</th>\n",
       "      <th>is_working</th>\n",
       "      <th>absence_code</th>\n",
       "      <th>absence_description</th>\n",
       "      <th>off_sex</th>\n",
       "      <th>rdesc</th>\n",
       "      <th>date</th>\n",
       "      <th>year</th>\n",
       "      <th>shift_end_corrected</th>\n",
       "      <th>shift_time</th>\n",
       "    </tr>\n",
       "  </thead>\n",
       "  <tbody>\n",
       "    <tr>\n",
       "      <th>52089</th>\n",
       "      <td>52090</td>\n",
       "      <td>189</td>\n",
       "      <td>3</td>\n",
       "      <td>6225I</td>\n",
       "      <td>NaN</td>\n",
       "      <td>NaN</td>\n",
       "      <td>NaN</td>\n",
       "      <td>NaN</td>\n",
       "      <td>NaN</td>\n",
       "      <td>GOFF</td>\n",
       "      <td>...</td>\n",
       "      <td>2006-11-27</td>\n",
       "      <td>Y</td>\n",
       "      <td>80.0</td>\n",
       "      <td>DAY OFF</td>\n",
       "      <td>M</td>\n",
       "      <td>NaN</td>\n",
       "      <td>2015-01-05</td>\n",
       "      <td>2015</td>\n",
       "      <td>NaN</td>\n",
       "      <td>NaN</td>\n",
       "    </tr>\n",
       "  </tbody>\n",
       "</table>\n",
       "<p>1 rows × 26 columns</p>\n",
       "</div>"
      ],
      "text/plain": [
       "       Unnamed: 0  unit  watch   beat car_number shift_start  start_time  \\\n",
       "52089       52090   189      3  6225I        NaN         NaN         NaN   \n",
       "\n",
       "      shift_end  end_time off_last_name  ... off_appointed is_working  \\\n",
       "52089       NaN       NaN          GOFF  ...    2006-11-27          Y   \n",
       "\n",
       "      absence_code  absence_description off_sex  rdesc        date  year  \\\n",
       "52089         80.0              DAY OFF       M    NaN  2015-01-05  2015   \n",
       "\n",
       "      shift_end_corrected shift_time  \n",
       "52089                 NaN        NaN  \n",
       "\n",
       "[1 rows x 26 columns]"
      ]
     },
     "execution_count": 11,
     "metadata": {},
     "output_type": "execute_result"
    }
   ],
   "source": [
    "assignments_df = pd.read_csv(\"../files/events/assignment_cleaned_part_2.csv\")\n",
    "assignments_df[(assignments_df[\"absence_code\"].notna()) & (assignments_df[\"is_working\"] == \"Y\")]"
   ]
  }
 ],
 "metadata": {
  "interpreter": {
   "hash": "e7370f93d1d0cde622a1f8e1c04877d8463912d04d973331ad4851f04de6915a"
  },
  "kernelspec": {
   "display_name": "Python 3.10.4 64-bit",
   "language": "python",
   "name": "python3"
  },
  "language_info": {
   "codemirror_mode": {
    "name": "ipython",
    "version": 3
   },
   "file_extension": ".py",
   "mimetype": "text/x-python",
   "name": "python",
   "nbconvert_exporter": "python",
   "pygments_lexer": "ipython3",
   "version": "3.10.4"
  },
  "orig_nbformat": 4
 },
 "nbformat": 4,
 "nbformat_minor": 2
}
