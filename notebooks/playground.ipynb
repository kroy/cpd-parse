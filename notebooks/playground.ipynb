{
 "cells": [
  {
   "cell_type": "code",
   "execution_count": 4,
   "metadata": {},
   "outputs": [
    {
     "data": {
      "text/plain": [
       "last_name  first_name  gender  birthyear  appointment_date\n",
       " HANSEN    GRACIBEL    F       1973.0     2004-10-25          1\n",
       "AARON      JEFFERY     M       1971.0     2005-09-26          3\n",
       "           KARINA      F       1980.0     2005-09-26          3\n",
       "ABATE      DANIEL      M       1942.0     1970-06-15          2\n",
       "ABBATE     ANTHONY     M       1968.0     1994-12-05          3\n",
       "                                                             ..\n",
       "ZYLINSKA   KATARZYNA   F       1980.0     2016-02-29          2\n",
       "ZYLVITIS   DEBRA       F       1956.0     1986-10-13          3\n",
       "ZYMANTAS   MARK        M       1974.0     2002-12-02          3\n",
       "ZYRKOWSKI  CARLO       M       1970.0     1996-12-02          3\n",
       "ZYSKOWSKI  STANLEY     M       1932.0     1955-02-08          2\n",
       "Length: 32474, dtype: int64"
      ]
     },
     "execution_count": 4,
     "metadata": {},
     "output_type": "execute_result"
    }
   ],
   "source": [
    "import pandas as pd\n",
    "\n",
    "academic = pd.read_csv(\"../files/AcademicDataSet/cpd-dataset-v0.1/final/officer_profiles.csv\")\n",
    "academic.groupby(by=[\"last_name\", \"first_name\", \"gender\", \"birthyear\", \"appointment_date\"]).size()"
   ]
  }
 ],
 "metadata": {
  "interpreter": {
   "hash": "e7370f93d1d0cde622a1f8e1c04877d8463912d04d973331ad4851f04de6915a"
  },
  "kernelspec": {
   "display_name": "Python 3.10.4 64-bit",
   "language": "python",
   "name": "python3"
  },
  "language_info": {
   "codemirror_mode": {
    "name": "ipython",
    "version": 3
   },
   "file_extension": ".py",
   "mimetype": "text/x-python",
   "name": "python",
   "nbconvert_exporter": "python",
   "pygments_lexer": "ipython3",
   "version": "3.10.4"
  },
  "orig_nbformat": 4
 },
 "nbformat": 4,
 "nbformat_minor": 2
}
