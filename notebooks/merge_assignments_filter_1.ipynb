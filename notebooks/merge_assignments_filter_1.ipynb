{
 "cells": [
  {
   "cell_type": "code",
   "execution_count": 28,
   "metadata": {},
   "outputs": [
    {
     "data": {
      "text/html": [
       "<div>\n",
       "<style scoped>\n",
       "    .dataframe tbody tr th:only-of-type {\n",
       "        vertical-align: middle;\n",
       "    }\n",
       "\n",
       "    .dataframe tbody tr th {\n",
       "        vertical-align: top;\n",
       "    }\n",
       "\n",
       "    .dataframe thead th {\n",
       "        text-align: right;\n",
       "    }\n",
       "</style>\n",
       "<table border=\"1\" class=\"dataframe\">\n",
       "  <thead>\n",
       "    <tr style=\"text-align: right;\">\n",
       "      <th></th>\n",
       "      <th>assignment_id</th>\n",
       "      <th>size</th>\n",
       "    </tr>\n",
       "  </thead>\n",
       "  <tbody>\n",
       "  </tbody>\n",
       "</table>\n",
       "</div>"
      ],
      "text/plain": [
       "Empty DataFrame\n",
       "Columns: [assignment_id, size]\n",
       "Index: []"
      ]
     },
     "execution_count": 28,
     "metadata": {},
     "output_type": "execute_result"
    }
   ],
   "source": [
    "import pandas as pd\n",
    "from datetime import datetime\n",
    "from data_tweak.converters import convert_race, convert_sex, convert_datetime\n",
    "\n",
    "merged_chunks = []\n",
    "\n",
    "cols = [\"assignment_id\",\"unit\",\"watch\",\"beat\",\"car_number\",\"shift_start\",\"start_time\",\"shift_end\",\"end_time\",\"off_last_name\",\"off_first_name\",\"off_middle_initial\",\"off_rank\",\"off_star\",\"off_race\",\"off_year_of_birth\",\"off_appointed\",\"is_working\",\"absence_code\",\"absence_description\",\"off_sex\",\"rdesc\",\"date\",\"year\",\"shift_end_corrected\",\"shift_time\", \"off_uniq_id\"]\n",
    "\n",
    "officers_prof_df = pd.read_csv(\"../files/profiles/officers_index_step_4.csv\")\n",
    "join_key = [\"off_last_name\",\"off_first_name\",\"off_middle_initial\",\"off_sex\",\"off_year_of_birth\",\"off_appointed\"]\n",
    "convert_sex(officers_prof_df, [\"off_sex\"])\n",
    "convert_race(officers_prof_df, [\"off_race\"])\n",
    "\n",
    "with pd.read_csv(\"../files/events/assignment_cleaned.csv\", chunksize=10000) as reader:\n",
    "  for chunk in reader:\n",
    "    # convert_datetime(chunk, [\"shift_start\"], format=\"%Y-%m-%d %H:%M:%S\")\n",
    "    chunk.insert(0, \"assignment_id\", chunk.index)\n",
    "    chunk.reset_index(drop=True, inplace=True)\n",
    "    convert_sex(chunk, [\"off_sex\"])\n",
    "    convert_race(chunk, [\"off_race\"])\n",
    "    \n",
    "    merged_chunk = pd.merge(chunk, officers_prof_df, on=join_key, suffixes=(\"\", \"_roster\"), how=\"left\")\n",
    "    merged_chunk.sort_values(by=[\"shift_start\", \"assignment_id\", \"off_last_name\", \"off_first_name\", \"off_middle_initial\"], inplace=True)\n",
    "    merged_chunks.append(merged_chunk.loc[:, cols])\n",
    "\n",
    "merged_df = pd.concat(merged_chunks)\n",
    "grouped = merged_df.groupby(\"assignment_id\").size().sort_values(ascending=False).to_frame(\"size\").reset_index()\n",
    "grouped[grouped[\"size\"] > 1]\n"
   ]
  },
  {
   "cell_type": "code",
   "execution_count": 29,
   "metadata": {},
   "outputs": [],
   "source": [
    "merged_df.to_csv(\"../files/events/officer_id_merged/assignments/filter_1/assignments_officer_uid_merged_new.csv\")"
   ]
  },
  {
   "cell_type": "code",
   "execution_count": 30,
   "metadata": {},
   "outputs": [
    {
     "data": {
      "text/html": [
       "<div>\n",
       "<style scoped>\n",
       "    .dataframe tbody tr th:only-of-type {\n",
       "        vertical-align: middle;\n",
       "    }\n",
       "\n",
       "    .dataframe tbody tr th {\n",
       "        vertical-align: top;\n",
       "    }\n",
       "\n",
       "    .dataframe thead th {\n",
       "        text-align: right;\n",
       "    }\n",
       "</style>\n",
       "<table border=\"1\" class=\"dataframe\">\n",
       "  <thead>\n",
       "    <tr style=\"text-align: right;\">\n",
       "      <th></th>\n",
       "      <th>assignment_id</th>\n",
       "      <th>unit</th>\n",
       "      <th>watch</th>\n",
       "      <th>beat</th>\n",
       "      <th>car_number</th>\n",
       "      <th>shift_start</th>\n",
       "      <th>start_time</th>\n",
       "      <th>shift_end</th>\n",
       "      <th>end_time</th>\n",
       "      <th>off_last_name</th>\n",
       "      <th>...</th>\n",
       "      <th>is_working</th>\n",
       "      <th>absence_code</th>\n",
       "      <th>absence_description</th>\n",
       "      <th>off_sex</th>\n",
       "      <th>rdesc</th>\n",
       "      <th>date</th>\n",
       "      <th>year</th>\n",
       "      <th>shift_end_corrected</th>\n",
       "      <th>shift_time</th>\n",
       "      <th>off_uniq_id</th>\n",
       "    </tr>\n",
       "  </thead>\n",
       "  <tbody>\n",
       "  </tbody>\n",
       "</table>\n",
       "<p>0 rows × 27 columns</p>\n",
       "</div>"
      ],
      "text/plain": [
       "Empty DataFrame\n",
       "Columns: [assignment_id, unit, watch, beat, car_number, shift_start, start_time, shift_end, end_time, off_last_name, off_first_name, off_middle_initial, off_rank, off_star, off_race, off_year_of_birth, off_appointed, is_working, absence_code, absence_description, off_sex, rdesc, date, year, shift_end_corrected, shift_time, off_uniq_id]\n",
       "Index: []\n",
       "\n",
       "[0 rows x 27 columns]"
      ]
     },
     "execution_count": 30,
     "metadata": {},
     "output_type": "execute_result"
    }
   ],
   "source": [
    "merged_df[merged_df[\"off_uniq_id\"].isna()]"
   ]
  }
 ],
 "metadata": {
  "interpreter": {
   "hash": "aee8b7b246df8f9039afb4144a1f6fd8d2ca17a180786b69acc140d282b71a49"
  },
  "kernelspec": {
   "display_name": "Python 3.10.4 64-bit",
   "language": "python",
   "name": "python3"
  },
  "language_info": {
   "codemirror_mode": {
    "name": "ipython",
    "version": 3
   },
   "file_extension": ".py",
   "mimetype": "text/x-python",
   "name": "python",
   "nbconvert_exporter": "python",
   "pygments_lexer": "ipython3",
   "version": "3.10.4"
  },
  "orig_nbformat": 4
 },
 "nbformat": 4,
 "nbformat_minor": 2
}
