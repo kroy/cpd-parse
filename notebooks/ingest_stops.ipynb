{
 "cells": [
  {
   "cell_type": "code",
   "execution_count": 6,
   "metadata": {},
   "outputs": [
    {
     "name": "stderr",
     "output_type": "stream",
     "text": [
      "/tmp/ipykernel_15210/3590496996.py:4: DtypeWarning: Columns (3,5,6,7,8,10,11,12,13,20,23,24) have mixed types. Specify dtype option on import or set low_memory=False.\n",
      "  stops_df = pd.read_csv(\"../files/events/stops_full.csv\")\n"
     ]
    }
   ],
   "source": [
    "import pandas as pd\n",
    "from data_tweak.converters import convert_datetime, convert_race, convert_sex\n",
    "\n",
    "stops_df = pd.read_csv(\"../files/events/stops_full.csv\")\n",
    "# convert_race(stops_df, \n",
    "convert_datetime(stops_df)\n",
    "stops_df.set_index(\"date_time\", inplace=True)\n",
    "convert_race(stops_df, [\"first_off_race\", \"second_off_race\", \"civ_race\"])\n",
    "convert_sex(stops_df, [\"first_off_sex\", \"second_off_sex\", \"civ_sex\"])\n",
    "\n",
    "stops_df.to_csv(\"../files/events/clean/stops_full_clean.csv\")\n"
   ]
  }
 ],
 "metadata": {
  "interpreter": {
   "hash": "e7370f93d1d0cde622a1f8e1c04877d8463912d04d973331ad4851f04de6915a"
  },
  "kernelspec": {
   "display_name": "Python 3.10.4 64-bit",
   "language": "python",
   "name": "python3"
  },
  "language_info": {
   "name": "python",
   "version": "3.10.4"
  },
  "orig_nbformat": 4
 },
 "nbformat": 4,
 "nbformat_minor": 2
}
