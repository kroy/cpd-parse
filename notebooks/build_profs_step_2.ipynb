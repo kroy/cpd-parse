{
 "cells": [
  {
   "cell_type": "code",
   "execution_count": 11,
   "metadata": {},
   "outputs": [
    {
     "name": "stderr",
     "output_type": "stream",
     "text": [
      "/var/folders/9h/xh9hskwj4q9bvjqcy131pv9c0000gn/T/ipykernel_53303/1113333056.py:8: DtypeWarning: Columns (11,12,13,14,46,47,48,49,51,52,53,60) have mixed types. Specify dtype option on import or set low_memory=False.\n",
      "  unmatched_fo_stops = pd.read_csv(\"../files/events/officer_id_merged/stops/filter_v2/missing_fo_id.csv\")\n"
     ]
    },
    {
     "name": "stdout",
     "output_type": "stream",
     "text": [
      "Index(['off_first_name', 'off_last_name', 'off_sex', 'off_race',\n",
      "       'off_year_of_birth', 'off_source'],\n",
      "      dtype='object')\n",
      "Index(['off_first_name', 'off_last_name', 'off_sex', 'off_race',\n",
      "       'off_year_of_birth', 'off_source'],\n",
      "      dtype='object')\n"
     ]
    }
   ],
   "source": [
    "import pandas as pd\n",
    "\n",
    "officer_key = [\"off_first_name\", \"off_last_name\", \"off_sex\", \"off_race\"]\n",
    "fo_cols = [\"first_off_first_name\", \"first_off_last_name\", \"first_off_sex\", \"first_off_race\", \"first_off_latest_birth_year\"]\n",
    "so_cols = [\"second_off_first_name\", \"second_off_last_name\", \"second_off_sex\", \"second_off_race\", \"second_off_latest_birth_year\"]\n",
    "cols = officer_key + [\"off_year_of_birth\", \"off_source\"]\n",
    "\n",
    "unmatched_fo_stops = pd.read_csv(\"../files/events/officer_id_merged/stops/filter_v2/missing_fo_id.csv\")\n",
    "unmatched_fo_stops = unmatched_fo_stops.loc[:, fo_cols].rename(columns={\n",
    "  \"first_off_first_name\": \"off_first_name\",\n",
    "  \"first_off_last_name\": \"off_last_name\",\n",
    "  \"first_off_sex\": \"off_sex\",\n",
    "  \"first_off_race\": \"off_race\",\n",
    "  \"first_off_latest_birth_year\": \"off_year_of_birth\",\n",
    "}).reset_index(drop=True)\n",
    "unmatched_fo_stops[\"off_source\"] = \"stops_unmatched_fo\"\n",
    "unmatched_so_stops = pd.read_csv(\"../files/events/officer_id_merged/stops/filter_v2/missing_so_id.csv\")\n",
    "unmatched_so_stops = unmatched_so_stops.loc[:, so_cols].rename(columns={\n",
    "  \"second_off_first_name\": \"off_first_name\",\n",
    "  \"second_off_last_name\": \"off_last_name\",\n",
    "  \"second_off_sex\": \"off_sex\",\n",
    "  \"second_off_race\": \"off_race\",\n",
    "  \"second_off_latest_birth_year\": \"off_year_of_birth\",\n",
    "}).reset_index(drop=True)\n",
    "unmatched_so_stops[\"off_source\"] = \"stops_unmatched_so\"\n",
    "\n",
    "print(unmatched_fo_stops.loc[:, cols].columns)\n",
    "print(unmatched_so_stops.loc[:, cols].columns)\n",
    "\n",
    "unmatched_stops = pd.concat([unmatched_fo_stops.loc[:, cols], unmatched_so_stops.loc[:,cols]], ignore_index=True)\n",
    "grouped = unmatched_stops.groupby(officer_key).agg({\n",
    "  \"off_year_of_birth\": min,\n",
    "  \"off_source\": \"first\"\n",
    "})\n",
    "# grouped.reset_index()\n",
    "# merged_unmatched = unmatched_stops.drop_duplicates(subset=officer_key).dropna(subset=officer_key, how=\"all\")\n",
    "\n",
    "current_profs = pd.read_csv(\"../files/profiles/officers_index_plus_kiefer.csv\", index_col=\"off_uniq_id\")\n",
    "merged_profs = pd.concat([current_profs, grouped.reset_index().loc[:, cols]], ignore_index=True)\n",
    "merged_profs.index.name = \"off_uniq_id\"\n",
    "merged_profs.reset_index(inplace=True)\n",
    "merged_profs.to_csv(\"../files/profiles/officers_index_step_2.csv\", index=False)"
   ]
  }
 ],
 "metadata": {
  "interpreter": {
   "hash": "aee8b7b246df8f9039afb4144a1f6fd8d2ca17a180786b69acc140d282b71a49"
  },
  "kernelspec": {
   "display_name": "Python 3.10.4 64-bit",
   "language": "python",
   "name": "python3"
  },
  "language_info": {
   "codemirror_mode": {
    "name": "ipython",
    "version": 3
   },
   "file_extension": ".py",
   "mimetype": "text/x-python",
   "name": "python",
   "nbconvert_exporter": "python",
   "pygments_lexer": "ipython3",
   "version": "3.10.4"
  },
  "orig_nbformat": 4
 },
 "nbformat": 4,
 "nbformat_minor": 2
}
