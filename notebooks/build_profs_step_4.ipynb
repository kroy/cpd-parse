{
 "cells": [
  {
   "cell_type": "code",
   "execution_count": 16,
   "metadata": {},
   "outputs": [
    {
     "name": "stdout",
     "output_type": "stream",
     "text": [
      "Number of officers with race UNKNOWN 0\n",
      "Number of officers missing race 707\n",
      "Number of officers 36918\n",
      "Number of officers missing race after group/merge 352\n",
      "Number of officers after group/merge 36504\n"
     ]
    }
   ],
   "source": [
    "import pandas as pd\n",
    "import numpy as np\n",
    "from functools import partial\n",
    "\n",
    "profs_df = pd.read_csv(\"../files/profiles/officers_index_step_3.csv\")\n",
    "profs_df.reset_index()\n",
    "cols = list(profs_df.columns.values)\n",
    "\n",
    "\"\"\" Some officers from Kiefer have \"UNKNOWN\" for their race, so we need to exclude race from the unique key \"\"\"\n",
    "unique_key = [\"off_first_name\", \"off_last_name\", \"off_middle_initial\", \"off_year_of_birth\", \"off_sex\", \"off_appointed\"]\n",
    "\n",
    "profs_df = profs_df.replace(\"UNKNOWN\", np.nan)\n",
    "print(\"Number of officers with race UNKNOWN\", profs_df[profs_df[\"off_race\"] == \"UNKNOWN\"].shape[0])\n",
    "print(\"Number of officers missing race\", profs_df[profs_df[\"off_race\"].isna()].shape[0])\n",
    "print(\"Number of officers\", profs_df.shape[0])\n",
    "\n",
    "grouped_by_key = profs_df.groupby(by=unique_key, dropna=False).agg({\n",
    "  \"off_uniq_id\": \"first\",\n",
    "  \"off_race\": \"first\",\n",
    "  \"off_star_0\": \"first\",\n",
    "  \"off_star_1\": \"first\",\n",
    "  \"off_star_2\": \"first\",\n",
    "  \"off_star_3\": \"first\",\n",
    "  \"off_star_4\": \"first\",\n",
    "  \"off_star_5\": \"first\",\n",
    "  \"ranks_held\": \"first\",\n",
    "  \"off_source\": \"first\"\n",
    "})\n",
    "\n",
    "off_roster = grouped_by_key.reset_index()\n",
    "\n",
    "print(\"Number of officers missing race after group/merge\", off_roster[off_roster[\"off_race\"].isna()].shape[0])\n",
    "print(\"Number of officers after group/merge\", off_roster.shape[0])\n",
    "off_roster.sort_values(by=[\"off_last_name\", \"off_first_name\", \"off_middle_initial\"], inplace=True)\n",
    "off_roster.loc[:, cols].to_csv(\"../files/profiles/officers_index_step_4.csv\", index=False)\n",
    "# profs_df.to_csv(\"../files/profiles/officers_index_step_4.csv\", index=False)"
   ]
  }
 ],
 "metadata": {
  "interpreter": {
   "hash": "aee8b7b246df8f9039afb4144a1f6fd8d2ca17a180786b69acc140d282b71a49"
  },
  "kernelspec": {
   "display_name": "Python 3.10.4 64-bit",
   "language": "python",
   "name": "python3"
  },
  "language_info": {
   "codemirror_mode": {
    "name": "ipython",
    "version": 3
   },
   "file_extension": ".py",
   "mimetype": "text/x-python",
   "name": "python",
   "nbconvert_exporter": "python",
   "pygments_lexer": "ipython3",
   "version": "3.10.4"
  },
  "orig_nbformat": 4
 },
 "nbformat": 4,
 "nbformat_minor": 2
}
