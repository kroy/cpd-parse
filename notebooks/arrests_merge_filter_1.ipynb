{
 "cells": [
  {
   "cell_type": "code",
   "execution_count": 119,
   "metadata": {},
   "outputs": [
    {
     "name": "stderr",
     "output_type": "stream",
     "text": [
      "/var/folders/9h/xh9hskwj4q9bvjqcy131pv9c0000gn/T/ipykernel_65006/1736766378.py:7: DtypeWarning: Columns (7) have mixed types. Specify dtype option on import or set low_memory=False.\n",
      "  arrests_df = pd.read_csv(\"../files/events/arrest_file.csv\", parse_dates=[\"date_time\"])\n"
     ]
    },
    {
     "name": "stdout",
     "output_type": "stream",
     "text": [
      "Total arrest records 4853961\n"
     ]
    }
   ],
   "source": [
    "import pandas as pd\n",
    "import numpy as np\n",
    "\n",
    "cols = [\"date_time\", \"time\", \"date\", \"add_of_arrest\", \"officer_role\", \"off_first\", \"off_last\", \"off_star\", \"fbi_code\", \"statute\", \"civ_sex\", \"civ_race\", \"civ_age\", \"civ_first_name\", \"civ_last_name\"]\n",
    "\n",
    "out_file_path = \"../files/events/officer_id_merged/arrests/filter_1\"\n",
    "arrests_df = pd.read_csv(\"../files/events/arrest_file.csv\", parse_dates=[\"date_time\"])\n",
    "\n",
    "print(\"Total arrest records\", arrests_df.shape[0])\n",
    "\n",
    "\"\"\" Arrests are duplicated by fbi_code. Filter out the dupes \"\"\"\n",
    "group_key = [\"date_time\", \"time\", \"date\", \"add_of_arrest\", \"officer_role\", \"off_first\", \"off_last\", \"civ_sex\", \"civ_race\", \"civ_age\", \"civ_first_name\", \"civ_last_name\"]\n",
    "grouped_arrests = arrests_df.groupby(by=group_key, dropna=False).agg(\n",
    "  off_star=(\"off_star\", \"first\"),\n",
    "  fbi_codes=(\"fbi_code\", lambda codes: \",\".join(codes.unique())),\n",
    "  statutes=(\"statute\", lambda statutes: \",\".join(statutes.unique())),\n",
    "  charges= (\"fbi_code\", lambda codes: codes.unique().shape[0])\n",
    ")\n",
    "\n",
    "grouped_arrests = grouped_arrests.reset_index().sort_values(by=\"date_time\")\n",
    "grouped_arrests.to_csv(out_file_path + \"/arrests_deduped.csv\")"
   ]
  },
  {
   "cell_type": "code",
   "execution_count": 120,
   "metadata": {},
   "outputs": [
    {
     "name": "stdout",
     "output_type": "stream",
     "text": [
      "Arrest records after being grouped by arresting officer 2682060\n",
      "Arrest records without an officer star 1324\n"
     ]
    }
   ],
   "source": [
    "print(\"Arrest records after being grouped by arresting officer\", grouped_arrests.shape[0])\n",
    "print(\"Arrest records without an officer star\", grouped_arrests[grouped_arrests[\"off_star\"].isna()].shape[0])\n",
    "grouped_arrests.index.name = \"arrest_id\"\n",
    "\n",
    "grouped_arrests = grouped_arrests.reset_index()\n"
   ]
  },
  {
   "cell_type": "code",
   "execution_count": 121,
   "metadata": {},
   "outputs": [
    {
     "name": "stdout",
     "output_type": "stream",
     "text": [
      "Number of redacted arrest records 2735\n",
      "Number of un-redacted arrest records 2678001\n"
     ]
    },
    {
     "name": "stderr",
     "output_type": "stream",
     "text": [
      "/var/folders/9h/xh9hskwj4q9bvjqcy131pv9c0000gn/T/ipykernel_65006/243305241.py:11: SettingWithCopyWarning: \n",
      "A value is trying to be set on a copy of a slice from a DataFrame.\n",
      "Try using .loc[row_indexer,col_indexer] = value instead\n",
      "\n",
      "See the caveats in the documentation: https://pandas.pydata.org/pandas-docs/stable/user_guide/indexing.html#returning-a-view-versus-a-copy\n",
      "  unredacted_arrests.loc[:, \"off_star\"] = pd.to_numeric(unredacted_arrests[\"off_star\"])\n"
     ]
    }
   ],
   "source": [
    "grouped_arrests[grouped_arrests[\"off_star\"].isna()].to_csv(out_file_path + \"/no_off_star.csv\", index=False)\n",
    "grouped_arrests = grouped_arrests.dropna(subset=[\"off_star\"])\n",
    "redacted_arrests = grouped_arrests[(grouped_arrests[\"off_first\"] == \"Redacted\") | (grouped_arrests[\"off_last\"] == \"Redacted\") | (grouped_arrests[\"off_star\"] == \"Redacted\")]\n",
    "redacted_arrests.to_csv(out_file_path + \"/redacted_arrests.csv\", index=False)\n",
    "redacted_arrest_ids = redacted_arrests[\"arrest_id\"].to_numpy()\n",
    "print(\"Number of redacted arrest records\", redacted_arrest_ids.size)\n",
    "unredacted_row_mask = ~grouped_arrests.isin({\"arrest_id\": redacted_arrest_ids}).any(1)\n",
    "unredacted_arrests = grouped_arrests[unredacted_row_mask]\n",
    "unredacted_arrests.to_csv(out_file_path + \"/unredacted_arrests.csv\", index=False)\n",
    "print(\"Number of un-redacted arrest records\", unredacted_arrests.shape[0])\n",
    "unredacted_arrests.loc[:, \"off_star\"] = pd.to_numeric(unredacted_arrests[\"off_star\"])\n"
   ]
  },
  {
   "cell_type": "code",
   "execution_count": 122,
   "metadata": {},
   "outputs": [
    {
     "name": "stdout",
     "output_type": "stream",
     "text": [
      "Number of records merged by officer stars 2592163\n"
     ]
    }
   ],
   "source": [
    "\"\"\" @TODO just write the correct dtype to the roster file \"\"\"\n",
    "officer_roster = pd.read_csv(\"../files/profiles/officers_index_step_4.csv\", dtype={\"off_star_0\": np.float64})\n",
    "\n",
    "left_on = [\"off_first\", \"off_last\", \"off_star\"]\n",
    "right_on = [\"off_first_name\", \"off_last_name\"]\n",
    "right_star_field_stub = \"off_star_\"\n",
    "\n",
    "star_merges = []\n",
    "out_cols = list(unredacted_arrests.columns.tolist()) + [\"merged_by_star\", \"off_uniq_id\"]\n",
    "\n",
    "for i in range(6):\n",
    "  off_star_field = right_star_field_stub + str(i)\n",
    "  star_merge = pd.merge(unredacted_arrests, officer_roster, left_on=left_on, right_on=right_on + [off_star_field], how=\"left\")\n",
    "  star_merge.dropna(subset=\"off_uniq_id\", inplace=True)\n",
    "  star_merge.to_csv(out_file_path + \"/star_{}_merge.csv\".format(i))\n",
    "  star_merge.loc[:, \"merged_by_star\"] = i\n",
    "  star_merges.append(star_merge.loc[:, out_cols])\n",
    "\n",
    "full_star_merge = pd.concat(star_merges, ignore_index=True)\n",
    "full_star_merge.sort_values(by=\"arrest_id\", inplace=True, ignore_index=True)\n",
    "print(\"Number of records merged by officer stars\", full_star_merge.shape[0])\n",
    "\n",
    "full_star_merge.to_csv(out_file_path + \"/all_star_merges.csv\")"
   ]
  },
  {
   "cell_type": "code",
   "execution_count": null,
   "metadata": {},
   "outputs": [],
   "source": [
    "grouped = full_star_merge.groupby(\"arrest_id\").size().sort_values(ascending=False).to_frame(\"size\")\n",
    "ids_with_multiple_matches = grouped[grouped[\"size\"] > 1].index.to_numpy()\n",
    "row_mask = full_star_merge.isin({\"arrest_id\": ids_with_multiple_matches}).any(1)\n",
    "multiple_matches = full_star_merge[row_mask]\n"
   ]
  },
  {
   "cell_type": "code",
   "execution_count": 127,
   "metadata": {},
   "outputs": [],
   "source": [
    "multiple_matches.to_csv(out_file_path + \"/matched_to_multiple_officers.csv\", index=False)\n",
    "\n",
    "single_matches = full_star_merge[~row_mask]\n",
    "single_matches.to_csv(out_file_path + \"/matched_to_single_officer.csv\", index=False)"
   ]
  },
  {
   "cell_type": "code",
   "execution_count": 128,
   "metadata": {},
   "outputs": [],
   "source": [
    "# right_on = [\"off_first_name\", \"off_last_name\", \"off_star_1\"]\n",
    "# star_1_merge = pd.merge(unmatched_star_0, officer_roster, left_on=left_on, right_on=right_on, how=\"left\")\n",
    "# unmatched_star_1 = star_1_merge[star_1_merge[\"off_uniq_id\"].isna()].loc[:, unredacted_arrests.columns]"
   ]
  },
  {
   "cell_type": "code",
   "execution_count": 129,
   "metadata": {},
   "outputs": [],
   "source": [
    "# right_on = [\"off_first_name\", \"off_last_name\", \"off_star_2\"]\n",
    "# star_2_merge = pd.merge(unmatched_star_1, officer_roster, left_on=left_on, right_on=right_on, how=\"left\")\n",
    "# star_2_merge[star_2_merge[\"off_uniq_id\"].isna()]"
   ]
  }
 ],
 "metadata": {
  "interpreter": {
   "hash": "aee8b7b246df8f9039afb4144a1f6fd8d2ca17a180786b69acc140d282b71a49"
  },
  "kernelspec": {
   "display_name": "Python 3.10.4 64-bit",
   "language": "python",
   "name": "python3"
  },
  "language_info": {
   "codemirror_mode": {
    "name": "ipython",
    "version": 3
   },
   "file_extension": ".py",
   "mimetype": "text/x-python",
   "name": "python",
   "nbconvert_exporter": "python",
   "pygments_lexer": "ipython3",
   "version": "3.10.4"
  },
  "orig_nbformat": 4
 },
 "nbformat": 4,
 "nbformat_minor": 2
}
